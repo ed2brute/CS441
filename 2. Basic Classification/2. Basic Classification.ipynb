	
cells	
0	
cell_type	"markdown"
metadata	{}
source	
0	"# * Prerequisites"
1	
cell_type	"markdown"
metadata	{}
source	
0	"In this assignment you will implement the Naive Bayes Classifier. Before starting this assignment, make sure you understand the concepts discussed in the videos in Week 2 about Naive Bayes. You can also find it useful to read Chapter 1 of the textbook.\n"
1	"\n"
2	"\n"
3	"Also, make sure that you are familiar with the `numpy.ndarray` class of python's `numpy` library and that you are able to answer the following questions:\n"
4	"\n"
5	"Let's assume `a` is a numpy array.\n"
6	"* What is an array's shape (e.g., what is the meaning of `a.shape`)?  \n"
7	"* What is numpy's reshaping operation? How much computational over-head would it induce?  \n"
8	"* What is numpy's transpose operation, and how it is different from reshaping? Does it cause computation overhead?\n"
9	"* What is the meaning of the commands `a.reshape(-1, 1)` and `a.reshape(-1)`?\n"
10	"* Would happens to the variable `a` after we call `b = a.reshape(-1)`? Does any of the attributes of `a` change?\n"
11	"* How do assignments in python and numpy work in general?\n"
12	"    * Does the `b=a` statement use copying by value? Or is it copying by reference?\n"
13	"    * Would the answer to the previous question change depending on whether `a` is a numpy array or a scalar value?\n"
14	"    \n"
15	"You can answer all of these questions by\n"
16	"\n"
17	"    1. Reading numpy's documentation from https://numpy.org/doc/stable/.\n"
18	"    2. Making trials using dummy variables."
2	
cell_type	"markdown"
metadata	{}
source	
0	"# *Assignment Summary"
3	
cell_type	"markdown"
metadata	{}
source	
0	"The UC Irvine machine learning data repository hosts a famous dataset, the Pima Indians dataset, on whether a patient has diabetes originally owned by the National Institute of Diabetes and Digestive and Kidney Diseases and donated by Vincent Sigillito. You can find it at  https://www.kaggle.com/uciml/pima-indians-diabetes-database/data. This data has a set of attributes of patients, and a categorical variable telling whether the patient is diabetic or not. For several attributes in this data set, a value of 0 may indicate a missing value of the variable. It has a total of 768 data-points. \n"
1	"\n"
2	"* **Part 1-A)** First, you will build a simple naive Bayes classifier to classify this data set. We will use 20% of the data for evaluation and the other 80% for training. \n"
3	"\n"
4	"  You should use a normal distribution to model each of the class-conditional distributions.\n"
5	"\n"
6	"  Report the accuracy of the classifier on the 20% evaluation data, where accuracy is the number of correct predictions as a fraction of total predictions.\n"
7	"\n"
8	"* **Part 1-B)** Next, you will adjust your code so that, for attributes 3 (Diastolic blood pressure), 4 (Triceps skin fold thickness), 6 (Body mass index), and 8 (Age), it regards a value of 0 as a missing value when estimating the class-conditional distributions, and the posterior.\n"
9	"\n"
10	"  Report the accuracy of the classifier on the 20% that was held out for evaluation.\n"
11	"\n"
12	"* **Part 1-C)** Last, you will have some experience with SVMLight, an off-the-shelf implementation of Support Vector Machines or SVMs. For now, you don't need to understand much about SVM's, we will explore them in more depth in the following exercises. You will install SVMLight, which you can find at http://svmlight.joachims.org, to train and evaluate an SVM to classify this data.\n"
13	"\n"
14	"  You should NOT substitute NA values for zeros for attributes 3, 4, 6, and 8.\n"
15	"  \n"
16	"  Report the accuracy of the classifier on the held out 20%"
4	
cell_type	"markdown"
metadata	{}
source	
0	"# 0. Data"
5	
cell_type	"markdown"
metadata	{}
source	
0	"## 0.1 Description"
6	
cell_type	"markdown"
metadata	{}
source	
0	"The UC Irvine's Machine Learning Data Repository Department hosts a Kaggle Competition with famous collection of data on whether a patient has diabetes (the Pima Indians dataset), originally owned by the National Institute of Diabetes and Digestive and Kidney Diseases and donated by Vincent Sigillito. \n"
1	"\n"
2	"You can find this data at https://www.kaggle.com/uciml/pima-indians-diabetes-database/data. The Kaggle website offers valuable visualizations of the original data dimensions in its dashboard. It is quite insightful to take the time and make sense of the data using their dashboard before applying any method to the data."
7	
cell_type	"markdown"
metadata	{}
source	
0	"## 0.2 Information Summary"
8	
cell_type	"markdown"
metadata	{}
source	
0	"* **Input/Output**: This data has a set of attributes of patients, and a categorical variable telling whether the patient is diabetic or not. \n"
1	"\n"
2	"* **Missing Data**: For several attributes in this data set, a value of 0 may indicate a missing value of the variable.\n"
3	"\n"
4	"* **Final Goal**: We want to build a classifier that can predict whether a patient has diabetes or not. To do this, we will train multiple kinds of models, and will be handing the missing data with different approaches for each method (i.e., some methods will ignore their existence, while others may do something about the missing data)."
9	
cell_type	"markdown"
metadata	{}
source	
0	"## 0.3 Loading"
10	
cell_type	"code"
execution_count	1
metadata	{}
outputs	[]
source	
0	"%matplotlib inline\n"
1	"import pandas as pd\n"
2	"import numpy as np\n"
3	"import seaborn as sns\n"
4	"import matplotlib.pyplot as plt\n"
5	"\n"
6	"from aml_utils import test_case_checker"
11	
cell_type	"code"
execution_count	2
metadata	{}
outputs	
0	
data	
text/html	
0	"<div>\n"
1	"<style scoped>\n"
2	"    .dataframe tbody tr th:only-of-type {\n"
3	"        vertical-align: middle;\n"
4	"    }\n"
5	"\n"
6	"    .dataframe tbody tr th {\n"
7	"        vertical-align: top;\n"
8	"    }\n"
9	"\n"
10	"    .dataframe thead th {\n"
11	"        text-align: right;\n"
12	"    }\n"
13	"</style>\n"
14	'<table border="1" class="dataframe">\n'
15	"  <thead>\n"
16	'    <tr style="text-align: right;">\n'
17	"      <th></th>\n"
18	"      <th>Pregnancies</th>\n"
19	"      <th>Glucose</th>\n"
20	"      <th>BloodPressure</th>\n"
21	"      <th>SkinThickness</th>\n"
22	"      <th>Insulin</th>\n"
23	"      <th>BMI</th>\n"
24	"      <th>DiabetesPedigreeFunction</th>\n"
25	"      <th>Age</th>\n"
26	"      <th>Outcome</th>\n"
27	"    </tr>\n"
28	"  </thead>\n"
29	"  <tbody>\n"
30	"    <tr>\n"
31	"      <th>0</th>\n"
32	"      <td>6</td>\n"
33	"      <td>148</td>\n"
34	"      <td>72</td>\n"
35	"      <td>35</td>\n"
36	"      <td>0</td>\n"
37	"      <td>33.6</td>\n"
38	"      <td>0.627</td>\n"
39	"      <td>50</td>\n"
40	"      <td>1</td>\n"
41	"    </tr>\n"
42	"    <tr>\n"
43	"      <th>1</th>\n"
44	"      <td>1</td>\n"
45	"      <td>85</td>\n"
46	"      <td>66</td>\n"
47	"      <td>29</td>\n"
48	"      <td>0</td>\n"
49	"      <td>26.6</td>\n"
50	"      <td>0.351</td>\n"
51	"      <td>31</td>\n"
52	"      <td>0</td>\n"
53	"    </tr>\n"
54	"    <tr>\n"
55	"      <th>2</th>\n"
56	"      <td>8</td>\n"
57	"      <td>183</td>\n"
58	"      <td>64</td>\n"
59	"      <td>0</td>\n"
60	"      <td>0</td>\n"
61	"      <td>23.3</td>\n"
62	"      <td>0.672</td>\n"
63	"      <td>32</td>\n"
64	"      <td>1</td>\n"
65	"    </tr>\n"
66	"    <tr>\n"
67	"      <th>3</th>\n"
68	"      <td>1</td>\n"
69	"      <td>89</td>\n"
70	"      <td>66</td>\n"
71	"      <td>23</td>\n"
72	"      <td>94</td>\n"
73	"      <td>28.1</td>\n"
74	"      <td>0.167</td>\n"
75	"      <td>21</td>\n"
76	"      <td>0</td>\n"
77	"    </tr>\n"
78	"    <tr>\n"
79	"      <th>4</th>\n"
80	"      <td>0</td>\n"
81	"      <td>137</td>\n"
82	"      <td>40</td>\n"
83	"      <td>35</td>\n"
84	"      <td>168</td>\n"
85	"      <td>43.1</td>\n"
86	"      <td>2.288</td>\n"
87	"      <td>33</td>\n"
88	"      <td>1</td>\n"
89	"    </tr>\n"
90	"  </tbody>\n"
91	"</table>\n"
92	"</div>"
text/plain	
0	"   Pregnancies  Glucose  BloodPressure  SkinThickness  Insulin   BMI  \\\n"
1	"0            6      148             72             35        0  33.6   \n"
2	"1            1       85             66             29        0  26.6   \n"
3	"2            8      183             64              0        0  23.3   \n"
4	"3            1       89             66             23       94  28.1   \n"
5	"4            0      137             40             35      168  43.1   \n"
6	"\n"
7	"   DiabetesPedigreeFunction  Age  Outcome  \n"
8	"0                     0.627   50        1  \n"
9	"1                     0.351   31        0  \n"
10	"2                     0.672   32        1  \n"
11	"3                     0.167   21        0  \n"
12	"4                     2.288   33        1  "
execution_count	2
metadata	{}
output_type	"execute_result"
source	
0	"df = pd.read_csv('../BasicClassification-lib/diabetes.csv')\n"
1	"df.head()"
12	
cell_type	"markdown"
metadata	{}
source	
0	"## 0.1 Splitting The Data"
13	
cell_type	"markdown"
metadata	{}
source	
0	"First, we will shuffle the data completely, and forget about the order in the original csv file. \n"
1	"\n"
2	"* The training and evaluation dataframes will be named ```train_df``` and ```eval_df```, respectively.\n"
3	"\n"
4	"* We will also create the 2-d numpy array `train_features` whose number of rows is the number of training samples, and the number of columns is 8 (i.e., the number of features). We will define `eval_features` in a similar fashion\n"
5	"\n"
6	"* We would also create the 1-d numpy arrays `train_labels` and `eval_labels` which contain the training and evaluation labels, respectively."
14	
cell_type	"code"
execution_count	3
metadata	{}
outputs	[]
source	
0	"# Let's generate the split ourselves.\n"
1	"np_random = np.random.RandomState(seed=12345)\n"
2	"rand_unifs = np_random.uniform(0,1,size=df.shape[0])\n"
3	"division_thresh = np.percentile(rand_unifs, 80)\n"
4	"train_indicator = rand_unifs < division_thresh\n"
5	"eval_indicator = rand_unifs >= division_thresh"
15	
cell_type	"code"
execution_count	4
metadata	{}
outputs	
0	
data	
text/html	
0	"<div>\n"
1	"<style scoped>\n"
2	"    .dataframe tbody tr th:only-of-type {\n"
3	"        vertical-align: middle;\n"
4	"    }\n"
5	"\n"
6	"    .dataframe tbody tr th {\n"
7	"        vertical-align: top;\n"
8	"    }\n"
9	"\n"
10	"    .dataframe thead th {\n"
11	"        text-align: right;\n"
12	"    }\n"
13	"</style>\n"
14	'<table border="1" class="dataframe">\n'
15	"  <thead>\n"
16	'    <tr style="text-align: right;">\n'
17	"      <th></th>\n"
18	"      <th>Pregnancies</th>\n"
19	"      <th>Glucose</th>\n"
20	"      <th>BloodPressure</th>\n"
21	"      <th>SkinThickness</th>\n"
22	"      <th>Insulin</th>\n"
23	"      <th>BMI</th>\n"
24	"      <th>DiabetesPedigreeFunction</th>\n"
25	"      <th>Age</th>\n"
26	"      <th>Outcome</th>\n"
27	"    </tr>\n"
28	"  </thead>\n"
29	"  <tbody>\n"
30	"    <tr>\n"
31	"      <th>0</th>\n"
32	"      <td>1</td>\n"
33	"      <td>85</td>\n"
34	"      <td>66</td>\n"
35	"      <td>29</td>\n"
36	"      <td>0</td>\n"
37	"      <td>26.6</td>\n"
38	"      <td>0.351</td>\n"
39	"      <td>31</td>\n"
40	"      <td>0</td>\n"
41	"    </tr>\n"
42	"    <tr>\n"
43	"      <th>1</th>\n"
44	"      <td>8</td>\n"
45	"      <td>183</td>\n"
46	"      <td>64</td>\n"
47	"      <td>0</td>\n"
48	"      <td>0</td>\n"
49	"      <td>23.3</td>\n"
50	"      <td>0.672</td>\n"
51	"      <td>32</td>\n"
52	"      <td>1</td>\n"
53	"    </tr>\n"
54	"    <tr>\n"
55	"      <th>2</th>\n"
56	"      <td>1</td>\n"
57	"      <td>89</td>\n"
58	"      <td>66</td>\n"
59	"      <td>23</td>\n"
60	"      <td>94</td>\n"
61	"      <td>28.1</td>\n"
62	"      <td>0.167</td>\n"
63	"      <td>21</td>\n"
64	"      <td>0</td>\n"
65	"    </tr>\n"
66	"    <tr>\n"
67	"      <th>3</th>\n"
68	"      <td>0</td>\n"
69	"      <td>137</td>\n"
70	"      <td>40</td>\n"
71	"      <td>35</td>\n"
72	"      <td>168</td>\n"
73	"      <td>43.1</td>\n"
74	"      <td>2.288</td>\n"
75	"      <td>33</td>\n"
76	"      <td>1</td>\n"
77	"    </tr>\n"
78	"    <tr>\n"
79	"      <th>4</th>\n"
80	"      <td>5</td>\n"
81	"      <td>116</td>\n"
82	"      <td>74</td>\n"
83	"      <td>0</td>\n"
84	"      <td>0</td>\n"
85	"      <td>25.6</td>\n"
86	"      <td>0.201</td>\n"
87	"      <td>30</td>\n"
88	"      <td>0</td>\n"
89	"    </tr>\n"
90	"  </tbody>\n"
91	"</table>\n"
92	"</div>"
text/plain	
0	"   Pregnancies  Glucose  BloodPressure  SkinThickness  Insulin   BMI  \\\n"
1	"0            1       85             66             29        0  26.6   \n"
2	"1            8      183             64              0        0  23.3   \n"
3	"2            1       89             66             23       94  28.1   \n"
4	"3            0      137             40             35      168  43.1   \n"
5	"4            5      116             74              0        0  25.6   \n"
6	"\n"
7	"   DiabetesPedigreeFunction  Age  Outcome  \n"
8	"0                     0.351   31        0  \n"
9	"1                     0.672   32        1  \n"
10	"2                     0.167   21        0  \n"
11	"3                     2.288   33        1  \n"
12	"4                     0.201   30        0  "
execution_count	4
metadata	{}
output_type	"execute_result"
source	
0	"train_df = df[train_indicator].reset_index(drop=True)\n"
1	"train_features = train_df.loc[:, train_df.columns != 'Outcome'].values\n"
2	"train_labels = train_df['Outcome'].values\n"
3	"train_df.head()"
16	
cell_type	"code"
execution_count	5
metadata	{}
outputs	
0	
data	
text/html	
0	"<div>\n"
1	"<style scoped>\n"
2	"    .dataframe tbody tr th:only-of-type {\n"
3	"        vertical-align: middle;\n"
4	"    }\n"
5	"\n"
6	"    .dataframe tbody tr th {\n"
7	"        vertical-align: top;\n"
8	"    }\n"
9	"\n"
10	"    .dataframe thead th {\n"
11	"        text-align: right;\n"
12	"    }\n"
13	"</style>\n"
14	'<table border="1" class="dataframe">\n'
15	"  <thead>\n"
16	'    <tr style="text-align: right;">\n'
17	"      <th></th>\n"
18	"      <th>Pregnancies</th>\n"
19	"      <th>Glucose</th>\n"
20	"      <th>BloodPressure</th>\n"
21	"      <th>SkinThickness</th>\n"
22	"      <th>Insulin</th>\n"
23	"      <th>BMI</th>\n"
24	"      <th>DiabetesPedigreeFunction</th>\n"
25	"      <th>Age</th>\n"
26	"      <th>Outcome</th>\n"
27	"    </tr>\n"
28	"  </thead>\n"
29	"  <tbody>\n"
30	"    <tr>\n"
31	"      <th>0</th>\n"
32	"      <td>6</td>\n"
33	"      <td>148</td>\n"
34	"      <td>72</td>\n"
35	"      <td>35</td>\n"
36	"      <td>0</td>\n"
37	"      <td>33.6</td>\n"
38	"      <td>0.627</td>\n"
39	"      <td>50</td>\n"
40	"      <td>1</td>\n"
41	"    </tr>\n"
42	"    <tr>\n"
43	"      <th>1</th>\n"
44	"      <td>3</td>\n"
45	"      <td>78</td>\n"
46	"      <td>50</td>\n"
47	"      <td>32</td>\n"
48	"      <td>88</td>\n"
49	"      <td>31.0</td>\n"
50	"      <td>0.248</td>\n"
51	"      <td>26</td>\n"
52	"      <td>1</td>\n"
53	"    </tr>\n"
54	"    <tr>\n"
55	"      <th>2</th>\n"
56	"      <td>10</td>\n"
57	"      <td>168</td>\n"
58	"      <td>74</td>\n"
59	"      <td>0</td>\n"
60	"      <td>0</td>\n"
61	"      <td>38.0</td>\n"
62	"      <td>0.537</td>\n"
63	"      <td>34</td>\n"
64	"      <td>1</td>\n"
65	"    </tr>\n"
66	"    <tr>\n"
67	"      <th>3</th>\n"
68	"      <td>0</td>\n"
69	"      <td>118</td>\n"
70	"      <td>84</td>\n"
71	"      <td>47</td>\n"
72	"      <td>230</td>\n"
73	"      <td>45.8</td>\n"
74	"      <td>0.551</td>\n"
75	"      <td>31</td>\n"
76	"      <td>1</td>\n"
77	"    </tr>\n"
78	"    <tr>\n"
79	"      <th>4</th>\n"
80	"      <td>7</td>\n"
81	"      <td>107</td>\n"
82	"      <td>74</td>\n"
83	"      <td>0</td>\n"
84	"      <td>0</td>\n"
85	"      <td>29.6</td>\n"
86	"      <td>0.254</td>\n"
87	"      <td>31</td>\n"
88	"      <td>1</td>\n"
89	"    </tr>\n"
90	"  </tbody>\n"
91	"</table>\n"
92	"</div>"
text/plain	
0	"   Pregnancies  Glucose  BloodPressure  SkinThickness  Insulin   BMI  \\\n"
1	"0            6      148             72             35        0  33.6   \n"
2	"1            3       78             50             32       88  31.0   \n"
3	"2           10      168             74              0        0  38.0   \n"
4	"3            0      118             84             47      230  45.8   \n"
5	"4            7      107             74              0        0  29.6   \n"
6	"\n"
7	"   DiabetesPedigreeFunction  Age  Outcome  \n"
8	"0                     0.627   50        1  \n"
9	"1                     0.248   26        1  \n"
10	"2                     0.537   34        1  \n"
11	"3                     0.551   31        1  \n"
12	"4                     0.254   31        1  "
execution_count	5
metadata	{}
output_type	"execute_result"
source	
0	"eval_df = df[eval_indicator].reset_index(drop=True)\n"
1	"eval_features = eval_df.loc[:, eval_df.columns != 'Outcome'].values\n"
2	"eval_labels = eval_df['Outcome'].values\n"
3	"eval_df.head()"
17	
cell_type	"code"
execution_count	6
metadata	{}
outputs	
0	
data	
text/plain	
0	"((614, 8), (614,), (154, 8), (154,))"
execution_count	6
metadata	{}
output_type	"execute_result"
source	
0	"train_features.shape, train_labels.shape, eval_features.shape, eval_labels.shape"
18	
cell_type	"markdown"
metadata	{}
source	
0	"## 0.2 Pre-processing The Data"
19	
cell_type	"markdown"
metadata	{}
source	
0	"Some of the columns exhibit missing values. We will use a Naive Bayes Classifier later that will treat such missing values in a special way.  To be specific, for attribute 3 (Diastolic blood pressure), attribute 4 (Triceps skin fold thickness), attribute 6 (Body mass index), and attribute 8 (Age), we should regard a value of 0 as a missing value.\n"
1	"\n"
2	"Therefore, we will be creating the `train_featues_with_nans` and `eval_features_with_nans` numpy arrays to be just like their `train_features` and `eval_features` counter-parts, but with the zero-values in such columns replaced with nans."
20	
cell_type	"code"
execution_count	7
metadata	{}
outputs	[]
source	
0	"train_df_with_nans = train_df.copy(deep=True)\n"
1	"eval_df_with_nans = eval_df.copy(deep=True)\n"
2	"for col_with_nans in ['BloodPressure', 'SkinThickness', 'BMI', 'Age']:\n"
3	"    train_df_with_nans[col_with_nans] = train_df_with_nans[col_with_nans].replace(0, np.nan)\n"
4	"    eval_df_with_nans[col_with_nans] = eval_df_with_nans[col_with_nans].replace(0, np.nan)\n"
5	"train_features_with_nans = train_df_with_nans.loc[:, train_df_with_nans.columns != 'Outcome'].values\n"
6	"eval_features_with_nans = eval_df_with_nans.loc[:, eval_df_with_nans.columns != 'Outcome'].values"
21	
cell_type	"code"
execution_count	8
metadata	{}
outputs	
0	
name	"stdout"
output_type	"stream"
text	
0	"Here are the training rows with at least one missing values.\n"
1	"\n"
2	"You can see that such incomplete data points constitute a substantial part of the data.\n"
3	"\n"
1	
data	
text/html	
0	"<div>\n"
1	"<style scoped>\n"
2	"    .dataframe tbody tr th:only-of-type {\n"
3	"        vertical-align: middle;\n"
4	"    }\n"
5	"\n"
6	"    .dataframe tbody tr th {\n"
7	"        vertical-align: top;\n"
8	"    }\n"
9	"\n"
10	"    .dataframe thead th {\n"
11	"        text-align: right;\n"
12	"    }\n"
13	"</style>\n"
14	'<table border="1" class="dataframe">\n'
15	"  <thead>\n"
16	'    <tr style="text-align: right;">\n'
17	"      <th></th>\n"
18	"      <th>Pregnancies</th>\n"
19	"      <th>Glucose</th>\n"
20	"      <th>BloodPressure</th>\n"
21	"      <th>SkinThickness</th>\n"
22	"      <th>Insulin</th>\n"
23	"      <th>BMI</th>\n"
24	"      <th>DiabetesPedigreeFunction</th>\n"
25	"      <th>Age</th>\n"
26	"      <th>Outcome</th>\n"
27	"    </tr>\n"
28	"  </thead>\n"
29	"  <tbody>\n"
30	"    <tr>\n"
31	"      <th>1</th>\n"
32	"      <td>8</td>\n"
33	"      <td>183</td>\n"
34	"      <td>64.0</td>\n"
35	"      <td>NaN</td>\n"
36	"      <td>0</td>\n"
37	"      <td>23.3</td>\n"
38	"      <td>0.672</td>\n"
39	"      <td>32</td>\n"
40	"      <td>1</td>\n"
41	"    </tr>\n"
42	"    <tr>\n"
43	"      <th>4</th>\n"
44	"      <td>5</td>\n"
45	"      <td>116</td>\n"
46	"      <td>74.0</td>\n"
47	"      <td>NaN</td>\n"
48	"      <td>0</td>\n"
49	"      <td>25.6</td>\n"
50	"      <td>0.201</td>\n"
51	"      <td>30</td>\n"
52	"      <td>0</td>\n"
53	"    </tr>\n"
54	"    <tr>\n"
55	"      <th>5</th>\n"
56	"      <td>10</td>\n"
57	"      <td>115</td>\n"
58	"      <td>NaN</td>\n"
59	"      <td>NaN</td>\n"
60	"      <td>0</td>\n"
61	"      <td>35.3</td>\n"
62	"      <td>0.134</td>\n"
63	"      <td>29</td>\n"
64	"      <td>0</td>\n"
65	"    </tr>\n"
66	"    <tr>\n"
67	"      <th>7</th>\n"
68	"      <td>8</td>\n"
69	"      <td>125</td>\n"
70	"      <td>96.0</td>\n"
71	"      <td>NaN</td>\n"
72	"      <td>0</td>\n"
73	"      <td>NaN</td>\n"
74	"      <td>0.232</td>\n"
75	"      <td>54</td>\n"
76	"      <td>1</td>\n"
77	"    </tr>\n"
78	"    <tr>\n"
79	"      <th>8</th>\n"
80	"      <td>4</td>\n"
81	"      <td>110</td>\n"
82	"      <td>92.0</td>\n"
83	"      <td>NaN</td>\n"
84	"      <td>0</td>\n"
85	"      <td>37.6</td>\n"
86	"      <td>0.191</td>\n"
87	"      <td>30</td>\n"
88	"      <td>0</td>\n"
89	"    </tr>\n"
90	"    <tr>\n"
91	"      <th>...</th>\n"
92	"      <td>...</td>\n"
93	"      <td>...</td>\n"
94	"      <td>...</td>\n"
95	"      <td>...</td>\n"
96	"      <td>...</td>\n"
97	"      <td>...</td>\n"
98	"      <td>...</td>\n"
99	"      <td>...</td>\n"
100	"      <td>...</td>\n"
101	"    </tr>\n"
102	"    <tr>\n"
103	"      <th>598</th>\n"
104	"      <td>6</td>\n"
105	"      <td>162</td>\n"
106	"      <td>62.0</td>\n"
107	"      <td>NaN</td>\n"
108	"      <td>0</td>\n"
109	"      <td>24.3</td>\n"
110	"      <td>0.178</td>\n"
111	"      <td>50</td>\n"
112	"      <td>1</td>\n"
113	"    </tr>\n"
114	"    <tr>\n"
115	"      <th>599</th>\n"
116	"      <td>4</td>\n"
117	"      <td>136</td>\n"
118	"      <td>70.0</td>\n"
119	"      <td>NaN</td>\n"
120	"      <td>0</td>\n"
121	"      <td>31.2</td>\n"
122	"      <td>1.182</td>\n"
123	"      <td>22</td>\n"
124	"      <td>1</td>\n"
125	"    </tr>\n"
126	"    <tr>\n"
127	"      <th>605</th>\n"
128	"      <td>1</td>\n"
129	"      <td>106</td>\n"
130	"      <td>76.0</td>\n"
131	"      <td>NaN</td>\n"
132	"      <td>0</td>\n"
133	"      <td>37.5</td>\n"
134	"      <td>0.197</td>\n"
135	"      <td>26</td>\n"
136	"      <td>0</td>\n"
137	"    </tr>\n"
138	"    <tr>\n"
139	"      <th>606</th>\n"
140	"      <td>6</td>\n"
141	"      <td>190</td>\n"
142	"      <td>92.0</td>\n"
143	"      <td>NaN</td>\n"
144	"      <td>0</td>\n"
145	"      <td>35.5</td>\n"
146	"      <td>0.278</td>\n"
147	"      <td>66</td>\n"
148	"      <td>1</td>\n"
149	"    </tr>\n"
150	"    <tr>\n"
151	"      <th>612</th>\n"
152	"      <td>1</td>\n"
153	"      <td>126</td>\n"
154	"      <td>60.0</td>\n"
155	"      <td>NaN</td>\n"
156	"      <td>0</td>\n"
157	"      <td>30.1</td>\n"
158	"      <td>0.349</td>\n"
159	"      <td>47</td>\n"
160	"      <td>1</td>\n"
161	"    </tr>\n"
162	"  </tbody>\n"
163	"</table>\n"
164	"<p>186 rows × 9 columns</p>\n"
165	"</div>"
text/plain	
0	"     Pregnancies  Glucose  BloodPressure  SkinThickness  Insulin   BMI  \\\n"
1	"1              8      183           64.0            NaN        0  23.3   \n"
2	"4              5      116           74.0            NaN        0  25.6   \n"
3	"5             10      115            NaN            NaN        0  35.3   \n"
4	"7              8      125           96.0            NaN        0   NaN   \n"
5	"8              4      110           92.0            NaN        0  37.6   \n"
6	"..           ...      ...            ...            ...      ...   ...   \n"
7	"598            6      162           62.0            NaN        0  24.3   \n"
8	"599            4      136           70.0            NaN        0  31.2   \n"
9	"605            1      106           76.0            NaN        0  37.5   \n"
10	"606            6      190           92.0            NaN        0  35.5   \n"
11	"612            1      126           60.0            NaN        0  30.1   \n"
12	"\n"
13	"     DiabetesPedigreeFunction  Age  Outcome  \n"
14	"1                       0.672   32        1  \n"
15	"4                       0.201   30        0  \n"
16	"5                       0.134   29        0  \n"
17	"7                       0.232   54        1  \n"
18	"8                       0.191   30        0  \n"
19	"..                        ...  ...      ...  \n"
20	"598                     0.178   50        1  \n"
21	"599                     1.182   22        1  \n"
22	"605                     0.197   26        0  \n"
23	"606                     0.278   66        1  \n"
24	"612                     0.349   47        1  \n"
25	"\n"
26	"[186 rows x 9 columns]"
execution_count	8
metadata	{}
output_type	"execute_result"
source	
0	"print('Here are the training rows with at least one missing values.')\n"
1	"print('')\n"
2	"print('You can see that such incomplete data points constitute a substantial part of the data.')\n"
3	"print('')\n"
4	"nan_training_data = train_df_with_nans[train_df_with_nans.isna().any(axis=1)]\n"
5	"nan_training_data"
22	
cell_type	"markdown"
metadata	{}
source	
0	"# 1. Part 1 (Building a simple Naive Bayes Classifier)"
23	
cell_type	"markdown"
metadata	{}
source	
0	"Consider a single sample $(\\mathbf{x}, y)$, where the feature vector is denoted with $\\mathbf{x}$, and the label is denoted with $y$. We will also denote the $j^{th}$ feature of $\\mathbf{x}$ with $x^{(j)}$.\n"
1	"\n"
2	"According to the textbook, the Naive Bayes Classifier uses the following decision rule:\n"
3	"\n"
4	'"Choose $y$ such that $$\\bigg[\\log p(y) + \\sum_{j} \\log p(x^{(j)}|y) \\bigg]$$ is the largest"\n'
5	"\n"
6	"However, we first need to define the probabilistic models of the prior $p(y)$ and the class-conditional feature distributions $p(x^{(j)}|y)$ using the training data.\n"
7	"\n"
8	"* **Modelling the prior $p(y)$**: We fit a Bernoulli distribution to the `Outcome` variable of `train_df`.\n"
9	"* **Modelling the class-conditional feature distributions $p(x^{(j)}|y)$**: We fit Gaussian distributions, and infer the Gaussian mean and variance parameters from `train_df`."
24	
cell_type	"markdown"
metadata	{}
source	
0	'# <span style="color:blue">Task 1</span>'
25	
cell_type	"markdown"
metadata	{}
source	
0	"Write a function `log_prior` that takes a numpy array `train_labels` as input, and outputs the following vector as a column numpy array (i.e., with shape $(2,1)$).\n"
1	"\n"
2	"$$\\log p_y =\\begin{bmatrix}\\log p(y=0)\\\\\\log p(y=1)\\end{bmatrix}$$\n"
3	"\n"
4	"Try and avoid the utilization of loops as much as possible. No loops are necessary.\n"
5	"\n"
6	"**Hint**: Make sure all the array shapes are what you need and expect. You can reshape any numpy array without any tangible computational over-head."
26	
cell_type	"code"
execution_count	9
metadata	
deletable	false
outputs	[]
source	
0	"def log_prior(train_labels):\n"
1	"    \n"
2	"    # your code here\n"
3	"    #raise NotImplementedError\n"
4	"    \n"
5	"    # calculate probabilities for the training labels\n"
6	"    prob_y0 = np.mean(train_labels == 0)\n"
7	"    prob_y1 = 1 - prob_y0\n"
8	"    \n"
9	"    # compute the log of the probabilities \n"
10	"    log_prob_py0 = np.log(prob_y0) if prob_y0 > 0 else -np.inf\n"
11	"    log_prob_py1 = np.log(prob_y1) if prob_y1 > 0 else -np.inf\n"
12	"    \n"
13	"    # build the array\n"
14	"    log_py = np.array([[log_prob_py0],[log_prob_py1]])\n"
15	"        \n"
16	"    assert log_py.shape == (2,1)\n"
17	"    \n"
18	"    return log_py"
27	
cell_type	"code"
execution_count	10
metadata	
deletable	false
editable	false
nbgrader	
cell_type	"code"
checksum	"58446a9c6b83fc53b43a0d41fce9f93b"
grade	false
grade_id	"cell-89c12d30b6fb44cb"
locked	true
schema_version	3
solution	false
task	false
outputs	[]
source	
0	"# Performing sanity checks on your implementation\n"
1	"some_labels = np.array([0, 1, 0, 1, 0, 0, 1, 1, 0, 0, 1, 1, 1, 1, 0, 0, 1, 1, 1, 1])\n"
2	"some_log_py = log_prior(some_labels)\n"
3	"assert np.array_equal(some_log_py.round(3), np.array([[-0.916], [-0.511]]))\n"
4	"\n"
5	"# Checking against the pre-computed test database\n"
6	"test_results = test_case_checker(log_prior, task_id=1)\n"
7	"assert test_results['passed'], test_results['message']"
28	
cell_type	"code"
execution_count	11
metadata	
code_folding	[]
deletable	false
editable	false
nbgrader	
cell_type	"code"
checksum	"14ff380a49035c9250c4323e60337bc3"
grade	true
grade_id	"cell-e263f2b1878b37bc"
locked	true
points	1
schema_version	3
solution	false
task	false
outputs	[]
source	
0	"# This cell is left empty as a seperator. You can leave this cell as it is, and you should not delete it.\n"
29	
cell_type	"code"
execution_count	12
metadata	{}
outputs	
0	
data	
text/plain	
0	"array([[-0.41610786],\n"
1	"       [-1.07766068]])"
execution_count	12
metadata	{}
output_type	"execute_result"
source	
0	"log_py = log_prior(train_labels)\n"
1	"log_py"
30	
cell_type	"markdown"
metadata	{}
source	
0	'# <span style="color:blue">Task 2</span>'
31	
cell_type	"markdown"
metadata	{}
source	
0	"Write a function `cc_mean_ignore_missing` that takes the numpy arrays `train_features` and `train_labels` as input, and outputs the following matrix with the shape $(8,2)$, where 8 is the number of features.\n"
1	"\n"
2	"$$\\mu_y = \\begin{bmatrix} \\mathbb{E}[x^{(0)}|y=0] & \\mathbb{E}[x^{(0)}|y=1]\\\\\n"
3	"\\mathbb{E}[x^{(1)}|y=0] & \\mathbb{E}[x^{(1)}|y=1] \\\\\n"
4	"\\cdots & \\cdots\\\\\n"
5	"\\mathbb{E}[x^{(7)}|y=0] & \\mathbb{E}[x^{(7)}|y=1]\\end{bmatrix}$$\n"
6	"\n"
7	"Some points regarding this task:\n"
8	"\n"
9	"* The `train_features` numpy array has a shape of `(N,8)` where `N` is the number of training data points, and 8 is the number of the features. \n"
10	"\n"
11	"* The `train_labels` numpy array has a shape of `(N,)`. \n"
12	"\n"
13	"* **You can assume that `train_features` has no missing elements in this task**.\n"
14	"\n"
15	"* Try and avoid the utilization of loops as much as possible. No loops are necessary."
32	
cell_type	"code"
execution_count	13
metadata	
deletable	false
outputs	[]
source	
0	"def cc_mean_ignore_missing(train_features, train_labels):\n"
1	"    N, d = train_features.shape\n"
2	"    \n"
3	"    # your code here\n"
4	"    #raise NotImplementedError\n"
5	"    \n"
6	"    # separate classes by the training label\n"
7	"    y0_features = train_features[train_labels == 0]\n"
8	"    y1_features = train_features[train_labels == 1]\n"
9	"    \n"
10	"    # calculate the mean of each feature\n"
11	"    mean_y0 = np.mean(y0_features, axis=0)\n"
12	"    mean_y1 = np.mean(y1_features, axis=0)\n"
13	"    \n"
14	"    # build the matrix, y=0 on the left, y=1 on the right\n"
15	"    mu_y = np.column_stack((mean_y0, mean_y1))\n"
16	"    \n"
17	"    assert mu_y.shape == (d, 2)\n"
18	"    return mu_y"
33	
cell_type	"code"
execution_count	14
metadata	
deletable	false
editable	false
nbgrader	
cell_type	"code"
checksum	"101072d0656f58c95247f1efe296a85b"
grade	false
grade_id	"cell-feae5e6e77107267"
locked	true
schema_version	3
solution	false
task	false
outputs	[]
source	
0	"# Performing sanity checks on your implementation\n"
1	"some_feats = np.array([[  1. ,  85. ,  66. ,  29. ,   0. ,  26.6,   0.4,  31. ],\n"
2	"                       [  8. , 183. ,  64. ,   0. ,   0. ,  23.3,   0.7,  32. ],\n"
3	"                       [  1. ,  89. ,  66. ,  23. ,  94. ,  28.1,   0.2,  21. ],\n"
4	"                       [  0. , 137. ,  40. ,  35. , 168. ,  43.1,   2.3,  33. ],\n"
5	"                       [  5. , 116. ,  74. ,   0. ,   0. ,  25.6,   0.2,  30. ]])\n"
6	"some_labels = np.array([0, 1, 0, 1, 0])\n"
7	"\n"
8	"some_mu_y = cc_mean_ignore_missing(some_feats, some_labels)\n"
9	"\n"
10	"assert np.array_equal(some_mu_y.round(2), np.array([[  2.33,   4.  ],\n"
11	"                                                    [ 96.67, 160.  ],\n"
12	"                                                    [ 68.67,  52.  ],\n"
13	"                                                    [ 17.33,  17.5 ],\n"
14	"                                                    [ 31.33,  84.  ],\n"
15	"                                                    [ 26.77,  33.2 ],\n"
16	"                                                    [  0.27,   1.5 ],\n"
17	"                                                    [ 27.33,  32.5 ]]))\n"
18	"\n"
19	"# Checking against the pre-computed test database\n"
20	"test_results = test_case_checker(cc_mean_ignore_missing, task_id=2)\n"
21	"assert test_results['passed'], test_results['message']"
34	
cell_type	"code"
execution_count	15
metadata	
code_folding	[]
deletable	false
editable	false
nbgrader	
cell_type	"code"
checksum	"a98f1ecc45f43b138e415573f0408bab"
grade	true
grade_id	"cell-e263f2b1878b37bj"
locked	true
points	1
schema_version	3
solution	false
task	false
outputs	[]
source	
0	"# This cell is left empty as a seperator. You can leave this cell as it is, and you should not delete it.\n"
35	
cell_type	"code"
execution_count	16
metadata	{}
outputs	
0	
data	
text/plain	
0	"array([[  3.48641975,   4.91866029],\n"
1	"       [109.99753086, 142.30143541],\n"
2	"       [ 68.77037037,  70.66028708],\n"
3	"       [ 19.51358025,  21.97129187],\n"
4	"       [ 66.25679012, 100.55980861],\n"
5	"       [ 30.31703704,  35.1492823 ],\n"
6	"       [  0.42825926,   0.55279904],\n"
7	"       [ 31.57283951,  37.39712919]])"
execution_count	16
metadata	{}
output_type	"execute_result"
source	
0	"mu_y = cc_mean_ignore_missing(train_features, train_labels)\n"
1	"mu_y"
36	
cell_type	"markdown"
metadata	{}
source	
0	'# <span style="color:blue">Task 3</span>'
37	
cell_type	"markdown"
metadata	{}
source	
0	"Write a function `cc_std_ignore_missing` that takes the numpy arrays `train_features` and `train_labels` as input, and outputs the following matrix with the shape $(8,2)$, where 8 is the number of features.\n"
1	"\n"
2	"$$\\sigma_y = \\begin{bmatrix} \\text{std}[x^{(0)}|y=0] & \\text{std}[x^{(0)}|y=1]\\\\\n"
3	"\\text{std}[x^{(1)}|y=0] & \\text{std}[x^{(1)}|y=1] \\\\\n"
4	"\\cdots & \\cdots\\\\\n"
5	"\\text{std}[x^{(7)}|y=0] & \\text{std}[x^{(7)}|y=1]\\end{bmatrix}$$\n"
6	"\n"
7	"Some points regarding this task:\n"
8	"\n"
9	"* The `train_features` numpy array has a shape of `(N,8)` where `N` is the number of training data points, and 8 is the number of the features. \n"
10	"\n"
11	"* The `train_labels` numpy array has a shape of `(N,)`. \n"
12	"\n"
13	"* **You can assume that `train_features` has no missing elements in this task**.\n"
14	"\n"
15	"* Try and avoid the utilization of loops as much as possible. No loops are necessary."
38	
cell_type	"code"
execution_count	17
metadata	
deletable	false
outputs	[]
source	
0	"def cc_std_ignore_missing(train_features, train_labels):\n"
1	"    N, d = train_features.shape\n"
2	"    \n"
3	"    # your code here\n"
4	"    #raise NotImplementedError\n"
5	"    \n"
6	"    # same as task 2, but compute standard deviation instead of mean\n"
7	"    \n"
8	"    # separate classes by the training label\n"
9	"    y0_features = train_features[train_labels == 0]\n"
10	"    y1_features = train_features[train_labels == 1]\n"
11	"    \n"
12	"    # calculate the mean of each feature\n"
13	"    std_y0 = np.std(y0_features, axis=0)\n"
14	"    std_y1 = np.std(y1_features, axis=0)\n"
15	"    \n"
16	"    # build the matrix, y=0 on the left, y=1 on the right\n"
17	"    sigma_y = np.column_stack((std_y0, std_y1))\n"
18	"    \n"
19	"    assert sigma_y.shape == (d, 2)\n"
20	"    \n"
21	"    return sigma_y"
39	
cell_type	"code"
execution_count	18
metadata	
deletable	false
editable	false
nbgrader	
cell_type	"code"
checksum	"9a6eeb9ba6ff8c69ef9ec7a78800d904"
grade	false
grade_id	"cell-347ad2c612aa195e"
locked	true
schema_version	3
solution	false
task	false
outputs	[]
source	
0	"# Performing sanity checks on your implementation\n"
1	"some_feats = np.array([[  1. ,  85. ,  66. ,  29. ,   0. ,  26.6,   0.4,  31. ],\n"
2	"                       [  8. , 183. ,  64. ,   0. ,   0. ,  23.3,   0.7,  32. ],\n"
3	"                       [  1. ,  89. ,  66. ,  23. ,  94. ,  28.1,   0.2,  21. ],\n"
4	"                       [  0. , 137. ,  40. ,  35. , 168. ,  43.1,   2.3,  33. ],\n"
5	"                       [  5. , 116. ,  74. ,   0. ,   0. ,  25.6,   0.2,  30. ]])\n"
6	"some_labels = np.array([0, 1, 0, 1, 0])\n"
7	"\n"
8	"some_std_y = cc_std_ignore_missing(some_feats, some_labels)\n"
9	"\n"
10	"assert np.array_equal(some_std_y.round(3), np.array([[ 1.886,  4.   ],\n"
11	"                                                     [13.768, 23.   ],\n"
12	"                                                     [ 3.771, 12.   ],\n"
13	"                                                     [12.499, 17.5  ],\n"
14	"                                                     [44.312, 84.   ],\n"
15	"                                                     [ 1.027,  9.9  ],\n"
16	"                                                     [ 0.094,  0.8  ],\n"
17	"                                                     [ 4.497,  0.5  ]]))\n"
18	"\n"
19	"# Checking against the pre-computed test database\n"
20	"test_results = test_case_checker(cc_std_ignore_missing, task_id=3)\n"
21	"assert test_results['passed'], test_results['message']"
40	
cell_type	"code"
execution_count	19
metadata	
code_folding	[]
deletable	false
editable	false
nbgrader	
cell_type	"code"
checksum	"468e750631e9197a917b4f8fc41f7a92"
grade	true
grade_id	"cell-e263f2b1878b37bg"
locked	true
points	1
schema_version	3
solution	false
task	false
outputs	[]
source	
0	"# This cell is left empty as a seperator. You can leave this cell as it is, and you should not delete it.\n"
41	
cell_type	"code"
execution_count	20
metadata	{}
outputs	
0	
data	
text/plain	
0	"array([[  3.1155426 ,   3.75417931],\n"
1	"       [ 25.96811899,  32.50910874],\n"
2	"       [ 18.07540068,  21.69568568],\n"
3	"       [ 15.02320635,  17.21685884],\n"
4	"       [ 95.63339586, 139.24364214],\n"
5	"       [  7.50030986,   6.6625219 ],\n"
6	"       [  0.29438217,   0.37201494],\n"
7	"       [ 11.67577435,  11.01543899]])"
execution_count	20
metadata	{}
output_type	"execute_result"
source	
0	"sigma_y = cc_std_ignore_missing(train_features, train_labels)\n"
1	"sigma_y"
42	
cell_type	"markdown"
metadata	{}
source	
0	'# <span style="color:blue">Task 4</span>'
43	
cell_type	"markdown"
metadata	{}
source	
0	"Write a function `log_prob` that takes the numpy arrays `train_features`, $\\mu_y$, $\\sigma_y$, and  $\\log p_y$ as input, and outputs the following matrix with the shape $(N, 2)$\n"
1	"\n"
2	"$$\\log p_{x,y} = \\begin{bmatrix} \\bigg[\\log p(y=0) + \\sum_{j=0}^{7} \\log p(x_1^{(j)}|y=0) \\bigg] & \\bigg[\\log p(y=1) + \\sum_{j=0}^{7} \\log p(x_1^{(j)}|y=1) \\bigg] \\\\\n"
3	"\\bigg[\\log p(y=0) + \\sum_{j=0}^{7} \\log p(x_2^{(j)}|y=0) \\bigg] & \\bigg[\\log p(y=1) + \\sum_{j=0}^{7} \\log p(x_2^{(j)}|y=1) \\bigg] \\\\\n"
4	"\\cdots & \\cdots \\\\\n"
5	"\\bigg[\\log p(y=0) + \\sum_{j=0}^{7} \\log p(x_N^{(j)}|y=0) \\bigg] & \\bigg[\\log p(y=1) + \\sum_{j=0}^{7} \\log p(x_N^{(j)}|y=1) \\bigg] \\\\\n"
6	"\\end{bmatrix}$$\n"
7	"\n"
8	"where\n"
9	"* $N$ is the number of training data points.\n"
10	"* $x_i$ is the $i^{th}$ training data point.\n"
11	"\n"
12	"Try and avoid the utilization of loops as much as possible. No loops are necessary."
44	
cell_type	"markdown"
metadata	{}
source	
0	"**Hint**: Remember that we are modelling $p(x_i^{(j)}|y)$ with a Gaussian whose parameters are defined inside $\\mu_y$ and $\\sigma_y$. Write the Gaussian PDF expression and take its natural log **on paper**, then implement it.\n"
1	"\n"
2	"**Important Note**: Do not use third-party and non-standard implementations for computing $\\log p(x_i^{(j)}|y)$. Using functions that find the Gaussian PDF, and then taking their log is **numerically unstable**; the Gaussian PDF values can easily become extremely small numbers that cannot be represented using floating point standards and thus would be stored as zero. Taking the log of a zero value will throw an error. On the other hand, it is unnecessary to compute and store $p(x_i^{(j)}|y)$ in order to find $\\log p(x_i^{(j)}|y)$; you can write $\\log p(x_i^{(j)}|y)$ as a direct function of $\\mu_y$, $\\sigma_y$ and the features. This latter approach is numerically stable, and can be applied when the PDF values are much smaller than could be stored using the common standards."
45	
cell_type	"code"
execution_count	21
metadata	
deletable	false
outputs	[]
source	
0	"def log_prob(train_features, mu_y, sigma_y, log_py):\n"
1	"    N, d = train_features.shape\n"
2	"    \n"
3	"    # your code here\n"
4	"    #raise NotImplementedError\n"
5	"    \n"
6	"    # Gaussian log likelihood\n"
7	"    # log p(x|y) = -1/2 log(2 * pi  * sigma^2) - [((x - mu)^2) / (2 * sigma^2)]\n"
8	"    \n"
9	"    # figure the difference betwen the training features and the mean, then square them\n"
10	"    train_minus_mean = train_features[:, :, np.newaxis] - mu_y\n"
11	"    squared_difference = train_minus_mean ** 2\n"
12	"    \n"
13	"    # we need sigma squared for the formula\n"
14	"    sigma_squared = sigma_y ** 2\n"
15	"    \n"
16	"    # compute the log likelihood\n"
17	"    log_likelihoods = -0.5 * np.log(2 * np.pi * sigma_squared) -0.5 * squared_difference / sigma_squared\n"
18	"    \n"
19	"    # execute the summation (sum over each feature)\n"
20	"    log_likelihoods_sum = np.sum(log_likelihoods, axis=1)\n"
21	"    \n"
22	"    # add the priors to the likelihoods to complete the calculation\n"
23	"    log_p_x_y = log_py.transpose() + log_likelihoods_sum\n"
24	"    \n"
25	"    assert log_p_x_y.shape == (N,2)\n"
26	"    return log_p_x_y"
46	
cell_type	"code"
execution_count	22
metadata	
deletable	false
editable	false
nbgrader	
cell_type	"code"
checksum	"1381c37cc128fcc5502da552ceace2e6"
grade	false
grade_id	"cell-86fb4d0c1943d700"
locked	true
schema_version	3
solution	false
task	false
outputs	[]
source	
0	"# Performing sanity checks on your implementation\n"
1	"some_feats = np.array([[  1. ,  85. ,  66. ,  29. ,   0. ,  26.6,   0.4,  31. ],\n"
2	"                       [  8. , 183. ,  64. ,   0. ,   0. ,  23.3,   0.7,  32. ],\n"
3	"                       [  1. ,  89. ,  66. ,  23. ,  94. ,  28.1,   0.2,  21. ],\n"
4	"                       [  0. , 137. ,  40. ,  35. , 168. ,  43.1,   2.3,  33. ],\n"
5	"                       [  5. , 116. ,  74. ,   0. ,   0. ,  25.6,   0.2,  30. ]])\n"
6	"some_labels = np.array([0, 1, 0, 1, 0])\n"
7	"\n"
8	"some_mu_y = cc_mean_ignore_missing(some_feats, some_labels)\n"
9	"some_std_y = cc_std_ignore_missing(some_feats, some_labels)\n"
10	"some_log_py = log_prior(some_labels)\n"
11	"\n"
12	"some_log_p_x_y = log_prob(some_feats, some_mu_y, some_std_y, some_log_py)\n"
13	"\n"
14	"assert np.array_equal(some_log_p_x_y.round(3), np.array([[ -20.822,  -36.606],\n"
15	"                                                         [ -60.879,  -27.944],\n"
16	"                                                         [ -21.774, -295.68 ],\n"
17	"                                                         [-417.359,  -27.944],\n"
18	"                                                         [ -23.2  ,  -42.6  ]]))\n"
19	"\n"
20	"# Checking against the pre-computed test database\n"
21	"test_results = test_case_checker(log_prob, task_id=4)\n"
22	"assert test_results['passed'], test_results['message']"
47	
cell_type	"code"
execution_count	23
metadata	
code_folding	[]
deletable	false
editable	false
nbgrader	
cell_type	"code"
checksum	"df1a1330fdef96dd92cc192241e744fc"
grade	true
grade_id	"cell-e263f2b1878b37bh"
locked	true
points	1
schema_version	3
solution	false
task	false
outputs	[]
source	
0	"# This cell is left empty as a seperator. You can leave this cell as it is, and you should not delete it.\n"
48	
cell_type	"code"
execution_count	24
metadata	{}
outputs	
0	
data	
text/plain	
0	"array([[-26.96647828, -31.00418408],\n"
1	"       [-32.4755447 , -31.39530914],\n"
2	"       [-27.14875996, -31.51999532],\n"
3	"       ...,\n"
4	"       [-26.29368771, -29.09161966],\n"
5	"       [-28.19432943, -30.08324788],\n"
6	"       [-26.98605248, -30.80571318]])"
execution_count	24
metadata	{}
output_type	"execute_result"
source	
0	"log_p_x_y = log_prob(train_features, mu_y, sigma_y, log_py)\n"
1	"log_p_x_y"
49	
cell_type	"markdown"
metadata	{}
source	
0	"## 1.1. Writing the Simple Naive Bayes Classifier"
50	
cell_type	"code"
execution_count	25
metadata	{}
outputs	[]
source	
0	"class NBClassifier():\n"
1	"    def __init__(self, train_features, train_labels):\n"
2	"        self.train_features = train_features\n"
3	"        self.train_labels = train_labels\n"
4	"        self.log_py = log_prior(train_labels)\n"
5	"        self.mu_y = self.get_cc_means()\n"
6	"        self.sigma_y = self.get_cc_std()\n"
7	"        \n"
8	"    def get_cc_means(self):\n"
9	"        mu_y = cc_mean_ignore_missing(self.train_features, self.train_labels)\n"
10	"        return mu_y\n"
11	"    \n"
12	"    def get_cc_std(self):\n"
13	"        sigma_y = cc_std_ignore_missing(self.train_features, self.train_labels)\n"
14	"        return sigma_y\n"
15	"    \n"
16	"    def predict(self, features):\n"
17	"        log_p_x_y = log_prob(features, self.mu_y, self.sigma_y, self.log_py)\n"
18	"        return log_p_x_y.argmax(axis=1)"
51	
cell_type	"code"
execution_count	26
metadata	{}
outputs	[]
source	
0	"diabetes_classifier = NBClassifier(train_features, train_labels)\n"
1	"train_pred = diabetes_classifier.predict(train_features)\n"
2	"eval_pred = diabetes_classifier.predict(eval_features)"
52	
cell_type	"code"
execution_count	27
metadata	{}
outputs	
0	
name	"stdout"
output_type	"stream"
text	
0	"The training data accuracy of your trained model is 0.7671009771986971\n"
1	"The evaluation data accuracy of your trained model is 0.7532467532467533\n"
source	
0	"train_acc = (train_pred==train_labels).mean()\n"
1	"eval_acc = (eval_pred==eval_labels).mean()\n"
2	"print(f'The training data accuracy of your trained model is {train_acc}')\n"
3	"print(f'The evaluation data accuracy of your trained model is {eval_acc}')"
53	
cell_type	"markdown"
metadata	{}
source	
0	"## 1.2 Running an off-the-shelf implementation of Naive-Bayes For Comparison"
54	
cell_type	"code"
execution_count	28
metadata	{}
outputs	
0	
name	"stdout"
output_type	"stream"
text	
0	"The training data accuracy of your trained model is 0.7671009771986971\n"
1	"The evaluation data accuracy of your trained model is 0.7532467532467533\n"
source	
0	"from sklearn.naive_bayes import GaussianNB\n"
1	"gnb = GaussianNB().fit(train_features, train_labels)\n"
2	"train_pred_sk = gnb.predict(train_features)\n"
3	"eval_pred_sk = gnb.predict(eval_features)\n"
4	"print(f'The training data accuracy of your trained model is {(train_pred_sk == train_labels).mean()}')\n"
5	"print(f'The evaluation data accuracy of your trained model is {(eval_pred_sk == eval_labels).mean()}')"
55	
cell_type	"markdown"
metadata	{}
source	
0	"# Part 2 (Building a Naive Bayes Classifier Considering Missing Entries)"
56	
cell_type	"markdown"
metadata	{}
source	
0	"In this part, we will modify some of the parameter inference functions of the Naive Bayes classifier to make it able to ignore the NaN entries when inferring the Gaussian mean and stds."
57	
cell_type	"markdown"
metadata	{}
source	
0	'# <span style="color:blue">Task 5</span>'
58	
cell_type	"markdown"
metadata	{}
source	
0	"Write a function `cc_mean_consider_missing` that\n"
1	"* has exactly the same input and output types as the `cc_mean_ignore_missing` function,\n"
2	"* and has similar functionality to `cc_mean_ignore_missing` except that it can handle and ignore the NaN entries when computing the class conditional means.\n"
3	"\n"
4	"You can borrow most of the code from your `cc_mean_ignore_missing` implementation, but you should make it compatible with the existence of NaN values in the features.\n"
5	"\n"
6	"Try and avoid the utilization of loops as much as possible. No loops are necessary."
59	
cell_type	"markdown"
metadata	{}
source	
0	"* **Hint**: You may find the `np.nanmean` function useful."
60	
cell_type	"code"
execution_count	29
metadata	
deletable	false
outputs	[]
source	
0	"def cc_mean_consider_missing(train_features_with_nans, train_labels):\n"
1	"    N, d = train_features_with_nans.shape\n"
2	"    \n"
3	"    # your code here\n"
4	"    #raise NotImplementedError\n"
5	"    \n"
6	"    y0 = (train_labels == 0)\n"
7	"    y1 = (train_labels == 1)\n"
8	"    \n"
9	"    mu_y0 = np.nanmean(train_features_with_nans[y0, :], axis=0)\n"
10	"    mu_y1 = np.nanmean(train_features_with_nans[y1, :], axis=0)\n"
11	"    \n"
12	"    mu_y = np.column_stack((mu_y0, mu_y1))\n"
13	"    \n"
14	"    assert not np.isnan(mu_y).any()\n"
15	"    assert mu_y.shape == (d, 2)\n"
16	"    return mu_y"
61	
cell_type	"code"
execution_count	30
metadata	
deletable	false
editable	false
nbgrader	
cell_type	"code"
checksum	"6303d5da34d9e332d33292b47c7bf113"
grade	false
grade_id	"cell-ca4af11e9d8a7fdb"
locked	true
schema_version	3
solution	false
task	false
outputs	[]
source	
0	"# Performing sanity checks on your implementation\n"
1	"some_feats = np.array([[  1. ,  85. ,  66. ,  29. ,   0. ,  26.6,   0.4,  31. ],\n"
2	"                       [  8. , 183. ,  64. ,   0. ,   0. ,  23.3,   0.7,  32. ],\n"
3	"                       [  1. ,  89. ,  66. ,  23. ,  94. ,  28.1,   0.2,  21. ],\n"
4	"                       [  0. , 137. ,  40. ,  35. , 168. ,  43.1,   2.3,  33. ],\n"
5	"                       [  5. , 116. ,  74. ,   0. ,   0. ,  25.6,   0.2,  30. ]])\n"
6	"some_labels = np.array([0, 1, 0, 1, 0])\n"
7	"\n"
8	"for i,j in [(0,0), (1,1), (2,3), (3,4), (4, 2)]:\n"
9	"    some_feats[i,j] = np.nan\n"
10	"\n"
11	"some_mu_y = cc_mean_consider_missing(some_feats, some_labels)\n"
12	"\n"
13	"assert np.array_equal(some_mu_y.round(2), np.array([[  3.  ,   4.  ],\n"
14	"                                                    [ 96.67, 137.  ],\n"
15	"                                                    [ 66.  ,  52.  ],\n"
16	"                                                    [ 14.5 ,  17.5 ],\n"
17	"                                                    [ 31.33,   0.  ],\n"
18	"                                                    [ 26.77,  33.2 ],\n"
19	"                                                    [  0.27,   1.5 ],\n"
20	"                                                    [ 27.33,  32.5 ]]))\n"
21	"\n"
22	"# Checking against the pre-computed test database\n"
23	"test_results = test_case_checker(cc_mean_consider_missing, task_id=5)\n"
24	"assert test_results['passed'], test_results['message']"
62	
cell_type	"code"
execution_count	31
metadata	
code_folding	[]
deletable	false
editable	false
nbgrader	
cell_type	"code"
checksum	"fe73c92df82cf2b5b4d938c18671be6b"
grade	true
grade_id	"cell-e263f2b1878b37bf"
locked	true
points	1
schema_version	3
solution	false
task	false
outputs	[]
source	
0	"# This cell is left empty as a seperator. You can leave this cell as it is, and you should not delete it.\n"
63	
cell_type	"code"
execution_count	32
metadata	{}
outputs	
0	
data	
text/plain	
0	"array([[  3.48641975,   4.91866029],\n"
1	"       [109.99753086, 142.30143541],\n"
2	"       [ 71.41538462,  75.34693878],\n"
3	"       [ 27.53658537,  32.11188811],\n"
4	"       [ 66.25679012, 100.55980861],\n"
5	"       [ 30.85025126,  35.31826923],\n"
6	"       [  0.42825926,   0.55279904],\n"
7	"       [ 31.57283951,  37.39712919]])"
execution_count	32
metadata	{}
output_type	"execute_result"
source	
0	"mu_y = cc_mean_consider_missing(train_features_with_nans, train_labels)\n"
1	"mu_y"
64	
cell_type	"markdown"
metadata	{}
source	
0	'# <span style="color:blue">Task 6</span>'
65	
cell_type	"markdown"
metadata	{}
source	
0	"Write a function `cc_std_consider_missing` that\n"
1	"* has exactly the same input and output types as the `cc_std_ignore_missing` function,\n"
2	"* and has similar functionality to `cc_std_ignore_missing` except that it can handle and ignore the NaN entries when computing the class conditional means.\n"
3	"\n"
4	"You can borrow most of the code from your `cc_std_ignore_missing` implementation, but you should make it compatible with the existence of NaN values in the features.\n"
5	"\n"
6	"Try and avoid the utilization of loops as much as possible. No loops are necessary."
66	
cell_type	"markdown"
metadata	{}
source	
0	"* **Hint**: You may find the `np.nanstd` function useful."
67	
cell_type	"code"
execution_count	33
metadata	
deletable	false
outputs	[]
source	
0	"def cc_std_consider_missing(train_features_with_nans, train_labels):\n"
1	"    N, d = train_features_with_nans.shape\n"
2	"    \n"
3	"    # your code here\n"
4	"    #raise NotImplementedError\n"
5	"    \n"
6	"    # again, same algorithm as computing the mean, but standard deviation instead\n"
7	"    \n"
8	"    y0 = (train_labels == 0)\n"
9	"    y1 = (train_labels == 1)\n"
10	"    \n"
11	"    std_y0 = np.nanstd(train_features_with_nans[y0, :], axis=0)\n"
12	"    std_y1 = np.nanstd(train_features_with_nans[y1, :], axis=0)\n"
13	"    \n"
14	"    sigma_y = np.column_stack((std_y0, std_y1))\n"
15	"    \n"
16	"    assert not np.isnan(sigma_y).any()\n"
17	"    assert sigma_y.shape == (d, 2)\n"
18	"    return sigma_y"
68	
cell_type	"code"
execution_count	34
metadata	
deletable	false
editable	false
nbgrader	
cell_type	"code"
checksum	"6062b0a65e131aa86909fefa7e7b88fc"
grade	false
grade_id	"cell-2821b980896856b7"
locked	true
schema_version	3
solution	false
task	false
outputs	[]
source	
0	"# Performing sanity checks on your implementation\n"
1	"some_feats = np.array([[  1. ,  85. ,  66. ,  29. ,   0. ,  26.6,   0.4,  31. ],\n"
2	"                       [  8. , 183. ,  64. ,   0. ,   0. ,  23.3,   0.7,  32. ],\n"
3	"                       [  1. ,  89. ,  66. ,  23. ,  94. ,  28.1,   0.2,  21. ],\n"
4	"                       [  0. , 137. ,  40. ,  35. , 168. ,  43.1,   2.3,  33. ],\n"
5	"                       [  5. , 116. ,  74. ,   0. ,   0. ,  25.6,   0.2,  30. ]])\n"
6	"some_labels = np.array([0, 1, 0, 1, 0])\n"
7	"\n"
8	"for i,j in [(0,0), (1,1), (2,3), (3,4), (4, 2)]:\n"
9	"    some_feats[i,j] = np.nan\n"
10	"\n"
11	"some_std_y = cc_std_consider_missing(some_feats, some_labels)\n"
12	"\n"
13	"assert np.array_equal(some_std_y.round(2), np.array([[ 2.  ,  4.  ],\n"
14	"                                                     [13.77,  0.  ],\n"
15	"                                                     [ 0.  , 12.  ],\n"
16	"                                                     [14.5 , 17.5 ],\n"
17	"                                                     [44.31,  0.  ],\n"
18	"                                                     [ 1.03,  9.9 ],\n"
19	"                                                     [ 0.09,  0.8 ],\n"
20	"                                                     [ 4.5 ,  0.5 ]]))\n"
21	"\n"
22	"# Checking against the pre-computed test database\n"
23	"test_results = test_case_checker(cc_std_consider_missing, task_id=6)\n"
24	"assert test_results['passed'], test_results['message']"
69	
cell_type	"code"
execution_count	35
metadata	
code_folding	[]
deletable	false
editable	false
nbgrader	
cell_type	"code"
checksum	"4919f542a3a80c75bbe8f533c2fe35b6"
grade	true
grade_id	"cell-e263f2b1878b37bz"
locked	true
points	1
schema_version	3
solution	false
task	false
outputs	[]
source	
0	"# This cell is left empty as a seperator. You can leave this cell as it is, and you should not delete it.\n"
70	
cell_type	"code"
execution_count	36
metadata	{}
outputs	
0	
data	
text/plain	
0	"array([[  3.1155426 ,   3.75417931],\n"
1	"       [ 25.96811899,  32.50910874],\n"
2	"       [ 12.26342359,  12.1982786 ],\n"
3	"       [  9.87753687,  10.37284304],\n"
4	"       [ 95.63339586, 139.24364214],\n"
5	"       [  6.38703834,   6.21564813],\n"
6	"       [  0.29438217,   0.37201494],\n"
7	"       [ 11.67577435,  11.01543899]])"
execution_count	36
metadata	{}
output_type	"execute_result"
source	
0	"sigma_y = cc_std_consider_missing(train_features_with_nans, train_labels)\n"
1	"sigma_y"
71	
cell_type	"markdown"
metadata	{}
source	
0	"## 2.1. Writing the Naive Bayes Classifier With Missing Data Handling"
72	
cell_type	"code"
execution_count	37
metadata	{}
outputs	[]
source	
0	"class NBClassifierWithMissing(NBClassifier):\n"
1	"    def get_cc_means(self):\n"
2	"        mu_y = cc_mean_consider_missing(self.train_features, self.train_labels)\n"
3	"        return mu_y\n"
4	"    \n"
5	"    def get_cc_std(self):\n"
6	"        sigma_y = cc_std_consider_missing(self.train_features, self.train_labels)\n"
7	"        return sigma_y\n"
8	"    \n"
9	"    def predict(self, features):\n"
10	"        preds = []\n"
11	"        for feature in features:\n"
12	"            is_num = np.logical_not(np.isnan(feature))\n"
13	"            mu_y_not_nan = self.mu_y[is_num,:]\n"
14	"            std_y_not_nan = self.sigma_y[is_num,:]\n"
15	"            feats_not_nan = feature[is_num].reshape(1,-1)\n"
16	"            log_p_x_y = log_prob(feats_not_nan, mu_y_not_nan, std_y_not_nan, self.log_py)\n"
17	"            preds.append(log_p_x_y.argmax(axis=1).item())\n"
18	"\n"
19	"        return np.array(preds)"
73	
cell_type	"code"
execution_count	38
metadata	{}
outputs	[]
source	
0	"diabetes_classifier_nans = NBClassifierWithMissing(train_features_with_nans, train_labels)\n"
1	"train_pred = diabetes_classifier_nans.predict(train_features_with_nans)\n"
2	"eval_pred = diabetes_classifier_nans.predict(eval_features_with_nans)"
74	
cell_type	"code"
execution_count	39
metadata	{}
outputs	
0	
name	"stdout"
output_type	"stream"
text	
0	"The training data accuracy of your trained model is 0.747557003257329\n"
1	"The evaluation data accuracy of your trained model is 0.7532467532467533\n"
source	
0	"train_acc = (train_pred==train_labels).mean()\n"
1	"eval_acc = (eval_pred==eval_labels).mean()\n"
2	"print(f'The training data accuracy of your trained model is {train_acc}')\n"
3	"print(f'The evaluation data accuracy of your trained model is {eval_acc}')"
75	
cell_type	"markdown"
metadata	{}
source	
0	"# 3. Running SVMlight"
76	
cell_type	"markdown"
metadata	{}
source	
0	"In this section, we are going to investigate the support vector machine classification method. We will become familiar with this classification method in week 3. However, in this section, we are just going to observe how this method performs to set the stage for the third week.\n"
1	"\n"
2	"`SVMlight` (http://svmlight.joachims.org/) is a famous implementation of the SVM classifier. \n"
3	"\n"
4	"`SVMLight` can be called from a shell terminal, and there is no nice wrapper for it in python3. Therefore:\n"
5	"1. We have to export the training data to a special format called `svmlight/libsvm`. This can be done using scikit-learn.\n"
6	"2. We have to run the `svm_learn` program to learn the model and then store it.\n"
7	"3. We have to import the model back to python."
77	
cell_type	"markdown"
metadata	{}
source	
0	"## 3.1 Exporting the training data to libsvm format"
78	
cell_type	"code"
execution_count	40
metadata	{}
outputs	[]
source	
0	"from sklearn.datasets import dump_svmlight_file\n"
1	"dump_svmlight_file(train_features, 2*train_labels-1, 'training_feats.data', \n"
2	"                   zero_based=False, comment=None, query_id=None, multilabel=False)"
79	
cell_type	"markdown"
metadata	{}
source	
0	"## 3.2 Training `SVMlight`"
80	
cell_type	"code"
execution_count	41
metadata	{}
outputs	
0	
name	"stdout"
output_type	"stream"
text	
0	"chmod: changing permissions of '../BasicClassification-lib/svmlight/svm_learn': Operation not permitted\n"
1	"Scanning examples...done\n"
2	"Reading examples into memory...100..200..300..400..500..600..OK. (614 examples read)\n"
3	"Setting default regularization parameter C=0.0000\n"
4	"Optimizing....................................................................................................................................................................................................................................................................................................................................................................................................................................................................................................................................................................................................................................................................................................................................................................................................................................................................................................................................................................................................................................................................................................................................................................................................................................................................................................................................................................................................................................................................................................................................................................................................................................................................................................................................................................................................................................................done. (1781 iterations)\n"
5	"Optimization finished (141 misclassified, maxdiff=0.00099).\n"
6	"Runtime in cpu-seconds: 0.21\n"
7	"Number of SV: 375 (including 369 at upper bound)\n"
8	"L1 loss: loss=335.23204\n"
9	"Norm of weight vector: |w|=0.03179\n"
10	"Norm of longest example vector: |x|=871.75350\n"
11	"Estimated VCdim of classifier: VCdim<=769.24695\n"
12	"Computing XiAlpha-estimates...done\n"
13	"Runtime for XiAlpha-estimates in cpu-seconds: 0.00\n"
14	"XiAlpha-estimate of the error: error<=60.75% (rho=1.00,depth=0)\n"
15	"XiAlpha-estimate of the recall: recall=>10.53% (rho=1.00,depth=0)\n"
16	"XiAlpha-estimate of the precision: precision=>10.58% (rho=1.00,depth=0)\n"
17	"Number of kernel evaluations: 71356\n"
18	"Writing model file...done\n"
19	"\n"
source	
0	"!chmod +x ../BasicClassification-lib/svmlight/svm_learn\n"
1	"from subprocess import Popen, PIPE\n"
2	'process = Popen(["../BasicClassification-lib/svmlight/svm_learn", "./training_feats.data", "svm_model.txt"], stdout=PIPE, stderr=PIPE)\n'
3	"stdout, stderr = process.communicate()\n"
4	'print(stdout.decode("utf-8"))'
81	
cell_type	"markdown"
metadata	{}
source	
0	"## 3.3 Importing the SVM Model"
82	
cell_type	"code"
execution_count	42
metadata	{}
outputs	[]
source	
0	"from svm2weight import get_svmlight_weights\n"
1	"svm_weights, thresh = get_svmlight_weights('svm_model.txt', printOutput=False)\n"
2	"\n"
3	"def svmlight_classifier(train_features):\n"
4	"    return (train_features @ svm_weights - thresh).reshape(-1) >= 0."
83	
cell_type	"code"
execution_count	43
metadata	{}
outputs	[]
source	
0	"train_pred = svmlight_classifier(train_features)\n"
1	"eval_pred = svmlight_classifier(eval_features)"
84	
cell_type	"code"
execution_count	44
metadata	{}
outputs	
0	
name	"stdout"
output_type	"stream"
text	
0	"The training data accuracy of your trained model is 0.7703583061889251\n"
1	"The evaluation data accuracy of your trained model is 0.7402597402597403\n"
source	
0	"train_acc = (train_pred==train_labels).mean()\n"
1	"eval_acc = (eval_pred==eval_labels).mean()\n"
2	"print(f'The training data accuracy of your trained model is {train_acc}')\n"
3	"print(f'The evaluation data accuracy of your trained model is {eval_acc}')"
85	
cell_type	"code"
execution_count	45
metadata	{}
outputs	[]
source	
0	"# Cleaning up after our work is done\n"
1	"!rm -rf svm_model.txt training_feats.data"
86	
cell_type	"code"
execution_count	null
metadata	{}
outputs	[]
source	[]
metadata	
illinois_payload	
b64z	""
nb_path	"release/BasicClassification/BasicClassification.ipynb"
kernelspec	
display_name	"Python 3 (Threads: 2)"
language	"python"
name	"python3"
language_info	
codemirror_mode	
name	"ipython"
version	3
file_extension	".py"
mimetype	"text/x-python"
name	"python"
nbconvert_exporter	"python"
pygments_lexer	"ipython3"
version	"3.8.12"
nbformat	4
nbformat_minor	4
