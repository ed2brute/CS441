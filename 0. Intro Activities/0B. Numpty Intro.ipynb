{
 "cells": [
  {
   "cell_type": "markdown",
   "metadata": {
    "tags": []
   },
   "source": [
    "# Introduction to Numpy\n",
    "© Ehsan Saleh, 2023"
   ]
  },
  {
   "cell_type": "markdown",
   "metadata": {},
   "source": [
    "### Let's get started!"
   ]
  },
  {
   "cell_type": "code",
   "execution_count": 1,
   "metadata": {},
   "outputs": [
    {
     "data": {
      "text/html": [
       "<style>.container { width:90% !important; }</style>"
      ],
      "text/plain": [
       "<IPython.core.display.HTML object>"
      ]
     },
     "metadata": {},
     "output_type": "display_data"
    }
   ],
   "source": [
    "%matplotlib inline\n",
    "import numpy as np\n",
    "import matplotlib.pyplot as plt\n",
    "from IPython.display import display, HTML\n",
    "display(HTML(\"<style>.container { width:90% !important; }</style>\"))"
   ]
  },
  {
   "cell_type": "markdown",
   "metadata": {},
   "source": [
    "# Numpy"
   ]
  },
  {
   "cell_type": "markdown",
   "metadata": {},
   "source": [
    "## Scalar vs. Matrix vs. Tensor\n",
    "\n",
    "<img src=\"02_tensors.jpeg\" alt=\"Drawing\" style=\"width: 50%;\"/>\n",
    "\n",
    "Credits: [https://www.i2tutorials.com/what-do-you-mean-by-tensor-and-explain-about-tensor-datatype-and-ranks/](https://www.i2tutorials.com/what-do-you-mean-by-tensor-and-explain-about-tensor-datatype-and-ranks/)\n",
    "\n",
    "* Numpy arrays and PyTorch tensors are all \"tensors\".\n",
    "\n",
    "* Each tensor has a number of dimensions:\n",
    "  * *Scalars* are 0-dimensional tensors.\n",
    "  * *Vectors* are 1-dimensional tensors.\n",
    "  * *Matrices* are 2-dimensional tensors.\n",
    "  * We can have n-dimensional tensors the same way.\n",
    "  \n",
    "In the course, we may use the \"array”, \"tensor”, and “matrix” terms interchangeably. "
   ]
  },
  {
   "cell_type": "markdown",
   "metadata": {},
   "source": [
    "## 1. Array Attributes\n",
    "\n",
    "Let's say `arr` is a numpy array. These are some key attributes:\n",
    "\n",
    "* **Shape**: `arr.shape` denotes the dimensions of the array. This is a tuple of integers indicating the size of the array in each dimension. \n",
    "\n",
    "\n",
    "* **Size**: `arr.size` denotes the total number of elements of the array.\n",
    "\n",
    "\n",
    "* **Data-type**: `arr.dtype` denotes the type of the elements in the array. Some examples are `int32`, `int64`, `float32`, `float64`, `bool` and so on.\n",
    "\n",
    "\n",
    "* **Number of Dimensions**: `arr.ndim` denotes the number of dimensions in the array.\n",
    "\n",
    "\n",
    "In other words, we have \n",
    "```\n",
    "arr.size == np.prod(arr.shape)\n",
    "arr.ndim == len(arr.shape)\n",
    "```"
   ]
  },
  {
   "cell_type": "code",
   "execution_count": 2,
   "metadata": {},
   "outputs": [],
   "source": [
    "a = np.array([[1, 2, 3], \n",
    "              [5, 6, 7]])"
   ]
  },
  {
   "cell_type": "code",
   "execution_count": 3,
   "metadata": {},
   "outputs": [
    {
     "data": {
      "text/plain": [
       "2"
      ]
     },
     "execution_count": 3,
     "metadata": {},
     "output_type": "execute_result"
    }
   ],
   "source": [
    "# The number of dimensions in `a`\n",
    "a.ndim"
   ]
  },
  {
   "cell_type": "code",
   "execution_count": 4,
   "metadata": {},
   "outputs": [
    {
     "data": {
      "text/plain": [
       "(2, 3)"
      ]
     },
     "execution_count": 4,
     "metadata": {},
     "output_type": "execute_result"
    }
   ],
   "source": [
    "# Let's check out the shape of `a`\n",
    "a.shape"
   ]
  },
  {
   "cell_type": "code",
   "execution_count": 5,
   "metadata": {},
   "outputs": [
    {
     "data": {
      "text/plain": [
       "dtype('int64')"
      ]
     },
     "execution_count": 5,
     "metadata": {},
     "output_type": "execute_result"
    }
   ],
   "source": [
    "# Let's look at what data-type numpy used for storing `a`\n",
    "a.dtype"
   ]
  },
  {
   "cell_type": "markdown",
   "metadata": {},
   "source": [
    "**Question**: Why did numpy assign a data type of `int64` as opposed to `float64`?\n",
    "\n",
    "**Answer**: The lists `[1, 2, 3]` and `[5, 6, 7]` included only integer numbers. If any of the numbers had decimals, the resulting array would have had a floating-point data type."
   ]
  },
  {
   "cell_type": "code",
   "execution_count": 6,
   "metadata": {},
   "outputs": [
    {
     "data": {
      "text/plain": [
       "(3,)"
      ]
     },
     "execution_count": 6,
     "metadata": {},
     "output_type": "execute_result"
    }
   ],
   "source": [
    "# Let's select the first entry in `a`\n",
    "b = a[0]\n",
    "b.shape"
   ]
  },
  {
   "cell_type": "code",
   "execution_count": 7,
   "metadata": {},
   "outputs": [
    {
     "data": {
      "text/plain": [
       "3"
      ]
     },
     "execution_count": 7,
     "metadata": {},
     "output_type": "execute_result"
    }
   ],
   "source": [
    "b.size"
   ]
  },
  {
   "cell_type": "code",
   "execution_count": 8,
   "metadata": {},
   "outputs": [
    {
     "data": {
      "text/plain": [
       "()"
      ]
     },
     "execution_count": 8,
     "metadata": {},
     "output_type": "execute_result"
    }
   ],
   "source": [
    "c = b[0]\n",
    "c.shape"
   ]
  },
  {
   "cell_type": "code",
   "execution_count": 9,
   "metadata": {},
   "outputs": [
    {
     "data": {
      "text/plain": [
       "1"
      ]
     },
     "execution_count": 9,
     "metadata": {},
     "output_type": "execute_result"
    }
   ],
   "source": [
    "c.size"
   ]
  },
  {
   "cell_type": "code",
   "execution_count": 10,
   "metadata": {},
   "outputs": [
    {
     "data": {
      "text/plain": [
       "()"
      ]
     },
     "execution_count": 10,
     "metadata": {},
     "output_type": "execute_result"
    }
   ],
   "source": [
    "d = a[0, 0]\n",
    "d.shape"
   ]
  },
  {
   "cell_type": "code",
   "execution_count": 11,
   "metadata": {},
   "outputs": [
    {
     "data": {
      "text/plain": [
       "1"
      ]
     },
     "execution_count": 11,
     "metadata": {},
     "output_type": "execute_result"
    }
   ],
   "source": [
    "d.size"
   ]
  },
  {
   "cell_type": "markdown",
   "metadata": {},
   "source": [
    "**Question**: What does a shape of `()` even mean?\n",
    "\n",
    "**Answer**: `()` is an empty tuple. Every time you index one of the array dimensions, the output loses that dimension. Since `a` initially had two dimensions, `a[0, 0]` ends up having zero dimensions."
   ]
  },
  {
   "cell_type": "code",
   "execution_count": 12,
   "metadata": {},
   "outputs": [
    {
     "data": {
      "text/plain": [
       "(1,)"
      ]
     },
     "execution_count": 12,
     "metadata": {},
     "output_type": "execute_result"
    }
   ],
   "source": [
    "# Let's create an array with a single entry\n",
    "c = np.array([1])\n",
    "c.shape"
   ]
  },
  {
   "cell_type": "markdown",
   "metadata": {},
   "source": [
    "**Question**: Is `c` different from `b`? \n",
    "  * If yes, aren't they both scalars?\n",
    "  * If no, then why do they have different shapes?\n",
    "\n",
    "Also, see the next cell."
   ]
  },
  {
   "cell_type": "code",
   "execution_count": 13,
   "metadata": {},
   "outputs": [
    {
     "name": "stdout",
     "output_type": "stream",
     "text": [
      "a.shape ==> ()\n",
      "b.shape ==> (1,)\n",
      "c.shape ==> (1, 1)\n",
      "d.shape ==> (1, 1, 1)\n"
     ]
    }
   ],
   "source": [
    "a = np.array(3)\n",
    "b = np.array([3])\n",
    "c = np.array([[3]])\n",
    "d = np.array([[[3]]])\n",
    "\n",
    "print(f'a.shape ==> {a.shape}')\n",
    "print(f'b.shape ==> {b.shape}')\n",
    "print(f'c.shape ==> {c.shape}')\n",
    "print(f'd.shape ==> {d.shape}')"
   ]
  },
  {
   "cell_type": "markdown",
   "metadata": {},
   "source": [
    "**Answer**: Indeed all of them are different, even though they all have identical underlying data. Even if the shapes only differ in some dummy dimensions of one, they're still considered to be different. \n",
    "\n",
    "These dummy dimensions of one do impact the alignment of dimensions when broadcasting; different shapes can lead to different operation/function behaviors. "
   ]
  },
  {
   "cell_type": "markdown",
   "metadata": {},
   "source": [
    "## 2. Creating Numpy Arrays"
   ]
  },
  {
   "cell_type": "markdown",
   "metadata": {},
   "source": [
    "### Creating an all zeros array"
   ]
  },
  {
   "cell_type": "code",
   "execution_count": 14,
   "metadata": {},
   "outputs": [
    {
     "data": {
      "text/plain": [
       "array([[[0., 0., 0., 0.],\n",
       "        [0., 0., 0., 0.],\n",
       "        [0., 0., 0., 0.]],\n",
       "\n",
       "       [[0., 0., 0., 0.],\n",
       "        [0., 0., 0., 0.],\n",
       "        [0., 0., 0., 0.]]], dtype=float32)"
      ]
     },
     "execution_count": 14,
     "metadata": {},
     "output_type": "execute_result"
    }
   ],
   "source": [
    "z = np.zeros((2,3,4), dtype=np.float32)\n",
    "z"
   ]
  },
  {
   "cell_type": "code",
   "execution_count": 15,
   "metadata": {},
   "outputs": [
    {
     "data": {
      "text/plain": [
       "(2, 3, 4)"
      ]
     },
     "execution_count": 15,
     "metadata": {},
     "output_type": "execute_result"
    }
   ],
   "source": [
    "z.shape"
   ]
  },
  {
   "cell_type": "markdown",
   "metadata": {},
   "source": [
    "### Creating an all ones array"
   ]
  },
  {
   "cell_type": "code",
   "execution_count": 16,
   "metadata": {},
   "outputs": [
    {
     "data": {
      "text/plain": [
       "array([[[1., 1., 1., 1.],\n",
       "        [1., 1., 1., 1.],\n",
       "        [1., 1., 1., 1.]],\n",
       "\n",
       "       [[1., 1., 1., 1.],\n",
       "        [1., 1., 1., 1.],\n",
       "        [1., 1., 1., 1.]]], dtype=float32)"
      ]
     },
     "execution_count": 16,
     "metadata": {},
     "output_type": "execute_result"
    }
   ],
   "source": [
    "o = np.ones((2,3,4), dtype=np.float32)\n",
    "o"
   ]
  },
  {
   "cell_type": "markdown",
   "metadata": {},
   "source": [
    "### Creating a range of values"
   ]
  },
  {
   "cell_type": "code",
   "execution_count": 17,
   "metadata": {},
   "outputs": [
    {
     "data": {
      "text/plain": [
       "array([0, 1, 2, 3, 4, 5, 6, 7])"
      ]
     },
     "execution_count": 17,
     "metadata": {},
     "output_type": "execute_result"
    }
   ],
   "source": [
    "r = np.arange(8)\n",
    "r"
   ]
  },
  {
   "cell_type": "markdown",
   "metadata": {},
   "source": [
    "### Creating a linear spacing of values"
   ]
  },
  {
   "cell_type": "code",
   "execution_count": 18,
   "metadata": {},
   "outputs": [
    {
     "data": {
      "text/plain": [
       "array([  0.,  20.,  40.,  60.,  80., 100.])"
      ]
     },
     "execution_count": 18,
     "metadata": {},
     "output_type": "execute_result"
    }
   ],
   "source": [
    "l = np.linspace(0, 100, 6)\n",
    "l"
   ]
  },
  {
   "cell_type": "markdown",
   "metadata": {},
   "source": [
    "### Creating an identity matrix"
   ]
  },
  {
   "cell_type": "code",
   "execution_count": 19,
   "metadata": {},
   "outputs": [
    {
     "data": {
      "text/plain": [
       "array([[1., 0., 0.],\n",
       "       [0., 1., 0.],\n",
       "       [0., 0., 1.]])"
      ]
     },
     "execution_count": 19,
     "metadata": {},
     "output_type": "execute_result"
    }
   ],
   "source": [
    "i = np.eye(3)\n",
    "i"
   ]
  },
  {
   "cell_type": "markdown",
   "metadata": {},
   "source": [
    "### Creating a diagonal matrix"
   ]
  },
  {
   "cell_type": "code",
   "execution_count": 20,
   "metadata": {},
   "outputs": [
    {
     "data": {
      "text/plain": [
       "array([[1, 0, 0],\n",
       "       [0, 3, 0],\n",
       "       [0, 0, 4]])"
      ]
     },
     "execution_count": 20,
     "metadata": {},
     "output_type": "execute_result"
    }
   ],
   "source": [
    "d = np.diag([1,3,4])\n",
    "d"
   ]
  },
  {
   "cell_type": "markdown",
   "metadata": {},
   "source": [
    "### Creating an array filled with a value"
   ]
  },
  {
   "cell_type": "code",
   "execution_count": 21,
   "metadata": {},
   "outputs": [
    {
     "data": {
      "text/plain": [
       "array([[[9., 9., 9., 9.],\n",
       "        [9., 9., 9., 9.],\n",
       "        [9., 9., 9., 9.]],\n",
       "\n",
       "       [[9., 9., 9., 9.],\n",
       "        [9., 9., 9., 9.],\n",
       "        [9., 9., 9., 9.]]], dtype=float32)"
      ]
     },
     "execution_count": 21,
     "metadata": {},
     "output_type": "execute_result"
    }
   ],
   "source": [
    "# Creating a full array\n",
    "f = np.full((2,3,4), 9, dtype=np.float32)\n",
    "f"
   ]
  },
  {
   "cell_type": "markdown",
   "metadata": {},
   "source": [
    "### Concatenating arrays"
   ]
  },
  {
   "cell_type": "code",
   "execution_count": 22,
   "metadata": {},
   "outputs": [
    {
     "name": "stdout",
     "output_type": "stream",
     "text": [
      "a.shape == (1, 2, 3)\n",
      "b.shape == (1, 2, 3)\n",
      "np.concatenate([a, b], axis=0)       --> shape == (2, 2, 3)\n",
      "np.concatenate([a, b], axis=1)       --> shape == (1, 4, 3)\n",
      "np.concatenate([a, b, a, a], axis=2) --> shape == (1, 2, 12)\n"
     ]
    }
   ],
   "source": [
    "a = np.zeros((1, 2, 3))\n",
    "b = np.ones((1, 2, 3))\n",
    "\n",
    "c = np.concatenate([a, b], axis=0)\n",
    "d = np.concatenate([a, b], axis=1)\n",
    "e = np.concatenate([a, b, a, a], axis=2)\n",
    "\n",
    "print(f'a.shape == {a.shape}')\n",
    "print(f'b.shape == {b.shape}')\n",
    "print(f'np.concatenate([a, b], axis=0)       --> shape == {c.shape}')\n",
    "print(f'np.concatenate([a, b], axis=1)       --> shape == {d.shape}')\n",
    "print(f'np.concatenate([a, b, a, a], axis=2) --> shape == {e.shape}')"
   ]
  },
  {
   "cell_type": "markdown",
   "metadata": {},
   "source": [
    "### Creating randomized arrays"
   ]
  },
  {
   "cell_type": "code",
   "execution_count": 23,
   "metadata": {},
   "outputs": [
    {
     "data": {
      "text/plain": [
       "array([[[ 0.27072132, -0.47561199, -1.96317263, -0.48946677],\n",
       "        [ 1.13755066, -1.85414579, -0.93129848, -0.9640601 ],\n",
       "        [ 0.70478636,  1.8363802 , -0.04146684,  0.60033158]],\n",
       "\n",
       "       [[-0.21461363, -0.65944672, -0.68343763,  1.45160859],\n",
       "        [-0.75989763, -1.2390234 ,  1.51859248,  0.62984102],\n",
       "        [-0.4605642 ,  2.27582362, -0.3559249 , -0.47536736]]])"
      ]
     },
     "execution_count": 23,
     "metadata": {},
     "output_type": "execute_result"
    }
   ],
   "source": [
    "# Sampling from the normal distribution\n",
    "norm = np.random.randn(2, 3, 4)\n",
    "norm"
   ]
  },
  {
   "cell_type": "code",
   "execution_count": 24,
   "metadata": {},
   "outputs": [
    {
     "data": {
      "text/plain": [
       "array([[[0.00387901, 0.49816897, 0.92676395, 0.84955592],\n",
       "        [0.52161541, 0.21946828, 0.35355344, 0.14466502],\n",
       "        [0.33578299, 0.73269271, 0.44021273, 0.30600232]],\n",
       "\n",
       "       [[0.76395215, 0.28722413, 0.86033157, 0.36049354],\n",
       "        [0.19213074, 0.360326  , 0.00712427, 0.39013035],\n",
       "        [0.12611803, 0.66965089, 0.25929615, 0.60716274]]])"
      ]
     },
     "execution_count": 24,
     "metadata": {},
     "output_type": "execute_result"
    }
   ],
   "source": [
    "# Sampling from the uniform distribution over [0, 1]\n",
    "unif = np.random.rand(2, 3, 4)\n",
    "unif"
   ]
  },
  {
   "cell_type": "markdown",
   "metadata": {},
   "source": [
    "You can find a list of distributions to sample from at https://numpy.org/doc/stable/reference/random/legacy.html"
   ]
  },
  {
   "cell_type": "markdown",
   "metadata": {},
   "source": [
    "## 3. Array Operations"
   ]
  },
  {
   "cell_type": "markdown",
   "metadata": {},
   "source": [
    "* The underlying data for all arrays is stored sequentially in the memory.\n",
    "* However, we can *view* the same data differently.\n",
    "* Reshaping does just that!\n",
    "\n",
    "<img src=\"03_reshape.webp\" alt=\"Drawing\" style=\"width: 50%;\"/>\n",
    "\n",
    "Credits: https://geekflare.com/numpy-reshape-arrays-in-python/"
   ]
  },
  {
   "cell_type": "code",
   "execution_count": 25,
   "metadata": {},
   "outputs": [
    {
     "data": {
      "text/plain": [
       "array([ 0,  1,  2,  3,  4,  5,  6,  7,  8,  9, 10, 11])"
      ]
     },
     "execution_count": 25,
     "metadata": {},
     "output_type": "execute_result"
    }
   ],
   "source": [
    "a = np.arange(12)\n",
    "a"
   ]
  },
  {
   "cell_type": "code",
   "execution_count": 26,
   "metadata": {},
   "outputs": [
    {
     "data": {
      "text/plain": [
       "array([[ 0,  1,  2,  3],\n",
       "       [ 4,  5,  6,  7],\n",
       "       [ 8,  9, 10, 11]])"
      ]
     },
     "execution_count": 26,
     "metadata": {},
     "output_type": "execute_result"
    }
   ],
   "source": [
    "b = a.reshape(3, 4)\n",
    "b"
   ]
  },
  {
   "cell_type": "code",
   "execution_count": 27,
   "metadata": {},
   "outputs": [
    {
     "data": {
      "text/plain": [
       "array([[[ 0,  1],\n",
       "        [ 2,  3]],\n",
       "\n",
       "       [[ 4,  5],\n",
       "        [ 6,  7]],\n",
       "\n",
       "       [[ 8,  9],\n",
       "        [10, 11]]])"
      ]
     },
     "execution_count": 27,
     "metadata": {},
     "output_type": "execute_result"
    }
   ],
   "source": [
    "c = a.reshape(3, 2, 2)\n",
    "c"
   ]
  },
  {
   "cell_type": "markdown",
   "metadata": {},
   "source": [
    "You can insert an arbitrary number of dummy dimensions of one. These can help you align the arrays for broadcasting operations (more on this later)."
   ]
  },
  {
   "cell_type": "code",
   "execution_count": 28,
   "metadata": {},
   "outputs": [
    {
     "data": {
      "text/plain": [
       "array([[[[ 0],\n",
       "         [ 1],\n",
       "         [ 2],\n",
       "         [ 3],\n",
       "         [ 4],\n",
       "         [ 5],\n",
       "         [ 6],\n",
       "         [ 7],\n",
       "         [ 8],\n",
       "         [ 9],\n",
       "         [10],\n",
       "         [11]]]])"
      ]
     },
     "execution_count": 28,
     "metadata": {},
     "output_type": "execute_result"
    }
   ],
   "source": [
    "d = a.reshape(1, 1, 12, 1)\n",
    "d"
   ]
  },
  {
   "cell_type": "markdown",
   "metadata": {},
   "source": [
    "All four variables share the same underlying data:"
   ]
  },
  {
   "cell_type": "code",
   "execution_count": 29,
   "metadata": {},
   "outputs": [
    {
     "name": "stdout",
     "output_type": "stream",
     "text": [
      "The memory location of a.data: 0x603043159e00\n",
      "The memory location of b.data: 0x603043159e00\n",
      "The memory location of c.data: 0x603043159e00\n",
      "The memory location of d.data: 0x603043159e00\n"
     ]
    }
   ],
   "source": [
    "print(f'The memory location of a.data: {hex(a.__array_interface__[\"data\"][0])}')\n",
    "print(f'The memory location of b.data: {hex(b.__array_interface__[\"data\"][0])}')\n",
    "print(f'The memory location of c.data: {hex(c.__array_interface__[\"data\"][0])}')\n",
    "print(f'The memory location of d.data: {hex(d.__array_interface__[\"data\"][0])}')"
   ]
  },
  {
   "cell_type": "markdown",
   "metadata": {},
   "source": [
    "## Reshaping is not the same as transposing!"
   ]
  },
  {
   "cell_type": "code",
   "execution_count": 30,
   "metadata": {},
   "outputs": [
    {
     "data": {
      "text/plain": [
       "array([[ 0,  1,  2,  3],\n",
       "       [ 4,  5,  6,  7],\n",
       "       [ 8,  9, 10, 11]])"
      ]
     },
     "execution_count": 30,
     "metadata": {},
     "output_type": "execute_result"
    }
   ],
   "source": [
    "b"
   ]
  },
  {
   "cell_type": "code",
   "execution_count": 31,
   "metadata": {},
   "outputs": [
    {
     "data": {
      "text/plain": [
       "array([[ 0,  1,  2],\n",
       "       [ 3,  4,  5],\n",
       "       [ 6,  7,  8],\n",
       "       [ 9, 10, 11]])"
      ]
     },
     "execution_count": 31,
     "metadata": {},
     "output_type": "execute_result"
    }
   ],
   "source": [
    "b.reshape(4, 3)"
   ]
  },
  {
   "cell_type": "code",
   "execution_count": 32,
   "metadata": {},
   "outputs": [
    {
     "data": {
      "text/plain": [
       "array([[ 0,  4,  8],\n",
       "       [ 1,  5,  9],\n",
       "       [ 2,  6, 10],\n",
       "       [ 3,  7, 11]])"
      ]
     },
     "execution_count": 32,
     "metadata": {},
     "output_type": "execute_result"
    }
   ],
   "source": [
    "b.transpose()"
   ]
  },
  {
   "cell_type": "markdown",
   "metadata": {},
   "source": [
    "### Slicing an array"
   ]
  },
  {
   "cell_type": "code",
   "execution_count": 33,
   "metadata": {},
   "outputs": [
    {
     "data": {
      "text/plain": [
       "array([  0.,  10.,  20.,  30.,  40.,  50.,  60.,  70.,  80.,  90., 100.])"
      ]
     },
     "execution_count": 33,
     "metadata": {},
     "output_type": "execute_result"
    }
   ],
   "source": [
    "a = np.linspace(0, 100, 11)\n",
    "a"
   ]
  },
  {
   "cell_type": "code",
   "execution_count": 34,
   "metadata": {},
   "outputs": [
    {
     "data": {
      "text/plain": [
       "array([30., 40., 50., 60.])"
      ]
     },
     "execution_count": 34,
     "metadata": {},
     "output_type": "execute_result"
    }
   ],
   "source": [
    "a[3:7]"
   ]
  },
  {
   "cell_type": "code",
   "execution_count": 35,
   "metadata": {},
   "outputs": [
    {
     "data": {
      "text/plain": [
       "array([[ 0,  1,  2,  3,  4,  5],\n",
       "       [ 6,  7,  8,  9, 10, 11],\n",
       "       [12, 13, 14, 15, 16, 17],\n",
       "       [18, 19, 20, 21, 22, 23],\n",
       "       [24, 25, 26, 27, 28, 29]])"
      ]
     },
     "execution_count": 35,
     "metadata": {},
     "output_type": "execute_result"
    }
   ],
   "source": [
    "# You can do this in multiple dimensions\n",
    "b = np.arange(30).reshape(5, 6)\n",
    "b"
   ]
  },
  {
   "cell_type": "code",
   "execution_count": 36,
   "metadata": {},
   "outputs": [
    {
     "data": {
      "text/plain": [
       "array([[ 0,  2,  4],\n",
       "       [12, 14, 16]])"
      ]
     },
     "execution_count": 36,
     "metadata": {},
     "output_type": "execute_result"
    }
   ],
   "source": [
    "b[0:4:2, 0:6:2]"
   ]
  },
  {
   "cell_type": "markdown",
   "metadata": {},
   "source": [
    "## Broadcasting"
   ]
  },
  {
   "cell_type": "markdown",
   "metadata": {},
   "source": [
    "It's just \"virtual stretching\" across dummy dimensions of size one:\n",
    "\n",
    "<img src=\"08_bcast.png\" alt=\"Drawing\" style=\"width: 50%;\"/>\n",
    "\n",
    "Credits: https://numpy.org/doc/stable/user/basics.broadcasting.html"
   ]
  },
  {
   "cell_type": "code",
   "execution_count": 37,
   "metadata": {},
   "outputs": [
    {
     "data": {
      "text/plain": [
       "array([2, 4, 6])"
      ]
     },
     "execution_count": 37,
     "metadata": {},
     "output_type": "execute_result"
    }
   ],
   "source": [
    "a = np.array([1, 2, 3])\n",
    "assert a.shape == (3,)\n",
    "\n",
    "b = np.array([2])\n",
    "assert b.shape == (1,)\n",
    "\n",
    "c = a * b\n",
    "assert c.shape == (3,)\n",
    "\n",
    "c"
   ]
  },
  {
   "cell_type": "markdown",
   "metadata": {},
   "source": [
    "<img src=\"09_bcast.png\" alt=\"Drawing\" style=\"width: 50%;\"/>"
   ]
  },
  {
   "cell_type": "code",
   "execution_count": 38,
   "metadata": {},
   "outputs": [
    {
     "data": {
      "text/plain": [
       "array([[ 1,  2,  3],\n",
       "       [11, 12, 13],\n",
       "       [21, 22, 23],\n",
       "       [31, 32, 33]])"
      ]
     },
     "execution_count": 38,
     "metadata": {},
     "output_type": "execute_result"
    }
   ],
   "source": [
    "a = np.array([[ 0,  0,  0],\n",
    "              [10, 10, 10],\n",
    "              [20, 20, 20],\n",
    "              [30, 30, 30]])\n",
    "assert a.shape == (4, 3)\n",
    "\n",
    "b = np.array([[1, 2, 3]])\n",
    "assert b.shape == (1, 3)\n",
    "\n",
    "c = a + b\n",
    "assert c.shape == (4, 3)\n",
    "\n",
    "c"
   ]
  },
  {
   "cell_type": "markdown",
   "metadata": {},
   "source": [
    "Two arrays can have no identical dimensions, yet still be broadcastable!"
   ]
  },
  {
   "cell_type": "markdown",
   "metadata": {},
   "source": [
    "<img src=\"10_bcast.png\" alt=\"Drawing\" style=\"width: 50%;\"/>"
   ]
  },
  {
   "cell_type": "code",
   "execution_count": 39,
   "metadata": {},
   "outputs": [
    {
     "data": {
      "text/plain": [
       "array([[ 1,  2,  3],\n",
       "       [11, 12, 13],\n",
       "       [21, 22, 23],\n",
       "       [31, 32, 33]])"
      ]
     },
     "execution_count": 39,
     "metadata": {},
     "output_type": "execute_result"
    }
   ],
   "source": [
    "a = np.array([[ 0], \n",
    "              [10], \n",
    "              [20], \n",
    "              [30]])\n",
    "assert a.shape == (4, 1)\n",
    "\n",
    "b = np.array([[1, 2, 3]])\n",
    "assert b.shape == (1, 3)\n",
    "\n",
    "c = a + b\n",
    "assert c.shape == (4, 3)\n",
    "\n",
    "c"
   ]
  },
  {
   "cell_type": "markdown",
   "metadata": {},
   "source": [
    "### Type casting"
   ]
  },
  {
   "cell_type": "code",
   "execution_count": 40,
   "metadata": {},
   "outputs": [
    {
     "data": {
      "text/plain": [
       "array([[-1,  0,  4,  5]])"
      ]
     },
     "execution_count": 40,
     "metadata": {},
     "output_type": "execute_result"
    }
   ],
   "source": [
    "a = np.array([[-1, 0, 4, 5]])\n",
    "\n",
    "a"
   ]
  },
  {
   "cell_type": "code",
   "execution_count": 41,
   "metadata": {},
   "outputs": [
    {
     "data": {
      "text/plain": [
       "array([[-1,  0,  4,  5]], dtype=int32)"
      ]
     },
     "execution_count": 41,
     "metadata": {},
     "output_type": "execute_result"
    }
   ],
   "source": [
    "a.astype(np.int32)"
   ]
  },
  {
   "cell_type": "code",
   "execution_count": 42,
   "metadata": {},
   "outputs": [
    {
     "data": {
      "text/plain": [
       "array([[-1.,  0.,  4.,  5.]], dtype=float32)"
      ]
     },
     "execution_count": 42,
     "metadata": {},
     "output_type": "execute_result"
    }
   ],
   "source": [
    "a.astype(np.float32)"
   ]
  },
  {
   "cell_type": "markdown",
   "metadata": {},
   "source": [
    "Be careful with overflows and underflows"
   ]
  },
  {
   "cell_type": "code",
   "execution_count": 43,
   "metadata": {},
   "outputs": [
    {
     "data": {
      "text/plain": [
       "array([[255,   0,   4,   5]], dtype=uint8)"
      ]
     },
     "execution_count": 43,
     "metadata": {},
     "output_type": "execute_result"
    }
   ],
   "source": [
    "a.astype(np.uint8)"
   ]
  },
  {
   "cell_type": "code",
   "execution_count": 44,
   "metadata": {},
   "outputs": [
    {
     "data": {
      "text/plain": [
       "array([[ True, False,  True,  True]])"
      ]
     },
     "execution_count": 44,
     "metadata": {},
     "output_type": "execute_result"
    }
   ],
   "source": [
    "a.astype(np.bool)"
   ]
  },
  {
   "cell_type": "code",
   "execution_count": 45,
   "metadata": {},
   "outputs": [
    {
     "data": {
      "text/plain": [
       "array([[0., 0., 1., 0.]], dtype=float32)"
      ]
     },
     "execution_count": 45,
     "metadata": {},
     "output_type": "execute_result"
    }
   ],
   "source": [
    "b = (a == 4)\n",
    "\n",
    "b.astype(np.float32)"
   ]
  },
  {
   "cell_type": "markdown",
   "metadata": {},
   "source": [
    "You can cast one array into another array's data type"
   ]
  },
  {
   "cell_type": "code",
   "execution_count": 46,
   "metadata": {},
   "outputs": [
    {
     "data": {
      "text/plain": [
       "array([[0, 0, 1, 0]])"
      ]
     },
     "execution_count": 46,
     "metadata": {},
     "output_type": "execute_result"
    }
   ],
   "source": [
    "b.astype(a.dtype)"
   ]
  },
  {
   "cell_type": "markdown",
   "metadata": {},
   "source": [
    "### Some basic comparison operations"
   ]
  },
  {
   "cell_type": "code",
   "execution_count": 47,
   "metadata": {},
   "outputs": [],
   "source": [
    "a = np.array([[1, 3, 4, 5]])\n",
    "assert a.shape == (1, 4)\n",
    "\n",
    "b = np.array([[5],\n",
    "              [6]])\n",
    "assert b.shape == (2, 1)"
   ]
  },
  {
   "cell_type": "code",
   "execution_count": 48,
   "metadata": {},
   "outputs": [
    {
     "data": {
      "text/plain": [
       "array([[False, False, False,  True],\n",
       "       [False, False, False, False]])"
      ]
     },
     "execution_count": 48,
     "metadata": {},
     "output_type": "execute_result"
    }
   ],
   "source": [
    "c = (a == b)\n",
    "assert c.shape == (2, 4)\n",
    "\n",
    "c"
   ]
  },
  {
   "cell_type": "code",
   "execution_count": 49,
   "metadata": {},
   "outputs": [
    {
     "data": {
      "text/plain": [
       "array([[False, False, False, False],\n",
       "       [False, False, False, False]])"
      ]
     },
     "execution_count": 49,
     "metadata": {},
     "output_type": "execute_result"
    }
   ],
   "source": [
    "c = (a > b)\n",
    "assert c.shape == (2, 4)\n",
    "\n",
    "c"
   ]
  },
  {
   "cell_type": "code",
   "execution_count": 50,
   "metadata": {},
   "outputs": [
    {
     "data": {
      "text/plain": [
       "array([[ True,  True,  True,  True],\n",
       "       [ True,  True,  True,  True]])"
      ]
     },
     "execution_count": 50,
     "metadata": {},
     "output_type": "execute_result"
    }
   ],
   "source": [
    "c = (a <= b)\n",
    "assert c.shape == (2, 4)\n",
    "\n",
    "c"
   ]
  },
  {
   "cell_type": "code",
   "execution_count": 51,
   "metadata": {},
   "outputs": [
    {
     "data": {
      "text/plain": [
       "array([[ True,  True,  True, False],\n",
       "       [ True,  True,  True,  True]])"
      ]
     },
     "execution_count": 51,
     "metadata": {},
     "output_type": "execute_result"
    }
   ],
   "source": [
    "c = (a != b)\n",
    "assert c.shape == (2, 4)\n",
    "\n",
    "c"
   ]
  },
  {
   "cell_type": "markdown",
   "metadata": {},
   "source": [
    "### Some elementwise functions"
   ]
  },
  {
   "cell_type": "code",
   "execution_count": 52,
   "metadata": {},
   "outputs": [
    {
     "data": {
      "text/plain": [
       "array([[ 1,  9, 16, 25]])"
      ]
     },
     "execution_count": 52,
     "metadata": {},
     "output_type": "execute_result"
    }
   ],
   "source": [
    "# Raising to the power of 2\n",
    "a ** 2 "
   ]
  },
  {
   "cell_type": "code",
   "execution_count": 53,
   "metadata": {},
   "outputs": [
    {
     "data": {
      "text/plain": [
       "array([[  2.71828183,  20.08553692,  54.59815003, 148.4131591 ]])"
      ]
     },
     "execution_count": 53,
     "metadata": {},
     "output_type": "execute_result"
    }
   ],
   "source": [
    "# Exponentiating\n",
    "np.exp(a)"
   ]
  },
  {
   "cell_type": "code",
   "execution_count": 54,
   "metadata": {},
   "outputs": [
    {
     "data": {
      "text/plain": [
       "array([[0.        , 1.09861229, 1.38629436, 1.60943791]])"
      ]
     },
     "execution_count": 54,
     "metadata": {},
     "output_type": "execute_result"
    }
   ],
   "source": [
    "# Logarithms\n",
    "np.log(a)"
   ]
  },
  {
   "cell_type": "code",
   "execution_count": 55,
   "metadata": {},
   "outputs": [
    {
     "data": {
      "text/plain": [
       "array([[ 0.84147098,  0.14112001, -0.7568025 , -0.95892427]])"
      ]
     },
     "execution_count": 55,
     "metadata": {},
     "output_type": "execute_result"
    }
   ],
   "source": [
    "# trigonometry functions \n",
    "np.sin(a)"
   ]
  },
  {
   "cell_type": "markdown",
   "metadata": {},
   "source": [
    "### Some matrix operations"
   ]
  },
  {
   "cell_type": "code",
   "execution_count": 56,
   "metadata": {},
   "outputs": [
    {
     "data": {
      "text/plain": [
       "array([[51]])"
      ]
     },
     "execution_count": 56,
     "metadata": {},
     "output_type": "execute_result"
    }
   ],
   "source": [
    "# Matrix multiplications\n",
    "b = a @ a.transpose()\n",
    "b"
   ]
  },
  {
   "cell_type": "code",
   "execution_count": 57,
   "metadata": {},
   "outputs": [
    {
     "data": {
      "text/plain": [
       "array([[0.01960784]])"
      ]
     },
     "execution_count": 57,
     "metadata": {},
     "output_type": "execute_result"
    }
   ],
   "source": [
    "# Matrix inversion\n",
    "np.linalg.inv(b)"
   ]
  },
  {
   "cell_type": "code",
   "execution_count": 58,
   "metadata": {},
   "outputs": [
    {
     "data": {
      "text/plain": [
       "array([7.14142843])"
      ]
     },
     "execution_count": 58,
     "metadata": {},
     "output_type": "execute_result"
    }
   ],
   "source": [
    "# Singular Value Decomposition\n",
    "u, s, v = np.linalg.svd(a)\n",
    "s"
   ]
  },
  {
   "cell_type": "markdown",
   "metadata": {},
   "source": [
    "### Reduction Fucntions\n",
    "\n",
    "First, you need to learn how the `axis` argument works!\n",
    "\n",
    "<img src=\"05_axis.png\" alt=\"Drawing\" style=\"width: 50%;\"/>\n",
    "\n",
    "Credit: https://predictivehacks.com/tips-about-numpy-arrays/\n",
    "\n",
    "One of the reduction functions is `np.sum`. You can apply it across any dimensions.\n",
    "\n",
    "<table><tr>\n",
    "<td> <img src=\"06_sum0.png\" width=\"600\"/> </td>\n",
    "<td> <img src=\"07_sum1.png\" width=\"420\"/>  </td>\n",
    "</tr></table>\n",
    "\n",
    "Credits: https://www.sharpsightlabs.com/blog/numpy-sum/\n",
    "\n",
    "Errata: The sum values are incorrect in the left figure"
   ]
  },
  {
   "cell_type": "code",
   "execution_count": 59,
   "metadata": {},
   "outputs": [],
   "source": [
    "a = np.array([[1, 3, 3, 5],\n",
    "              [2, 7, 3, 6]])\n",
    "assert a.shape == (2, 4)\n",
    "\n",
    "b = np.array([[3],\n",
    "              [2]])\n",
    "assert b.shape == (2, 1)"
   ]
  },
  {
   "cell_type": "markdown",
   "metadata": {},
   "source": [
    "Another reduction function is the mean"
   ]
  },
  {
   "cell_type": "code",
   "execution_count": 60,
   "metadata": {},
   "outputs": [
    {
     "data": {
      "text/plain": [
       "array([1.5, 5. , 3. , 5.5])"
      ]
     },
     "execution_count": 60,
     "metadata": {},
     "output_type": "execute_result"
    }
   ],
   "source": [
    "np.mean(a, axis=0)"
   ]
  },
  {
   "cell_type": "markdown",
   "metadata": {},
   "source": [
    "Another reduction function is the standard deviation"
   ]
  },
  {
   "cell_type": "code",
   "execution_count": 61,
   "metadata": {},
   "outputs": [
    {
     "data": {
      "text/plain": [
       "array([1.41421356, 2.06155281])"
      ]
     },
     "execution_count": 61,
     "metadata": {},
     "output_type": "execute_result"
    }
   ],
   "source": [
    "np.std(a, axis=1)"
   ]
  },
  {
   "cell_type": "markdown",
   "metadata": {},
   "source": [
    "Another reduction function is the variance"
   ]
  },
  {
   "cell_type": "code",
   "execution_count": 62,
   "metadata": {},
   "outputs": [
    {
     "data": {
      "text/plain": [
       "array([2.  , 4.25])"
      ]
     },
     "execution_count": 62,
     "metadata": {},
     "output_type": "execute_result"
    }
   ],
   "source": [
    "np.var(a, axis=1)"
   ]
  },
  {
   "cell_type": "markdown",
   "metadata": {},
   "source": [
    "You can also take the min and max"
   ]
  },
  {
   "cell_type": "code",
   "execution_count": 63,
   "metadata": {},
   "outputs": [
    {
     "data": {
      "text/plain": [
       "array([1, 3, 3, 5])"
      ]
     },
     "execution_count": 63,
     "metadata": {},
     "output_type": "execute_result"
    }
   ],
   "source": [
    "a.min(axis=0)"
   ]
  },
  {
   "cell_type": "markdown",
   "metadata": {},
   "source": [
    "You can also figure out where the min and max are placed!"
   ]
  },
  {
   "cell_type": "code",
   "execution_count": 64,
   "metadata": {},
   "outputs": [
    {
     "data": {
      "text/plain": [
       "array([3, 1])"
      ]
     },
     "execution_count": 64,
     "metadata": {},
     "output_type": "execute_result"
    }
   ],
   "source": [
    "a.argmax(axis=1)"
   ]
  },
  {
   "cell_type": "markdown",
   "metadata": {},
   "source": [
    "You can check how often a boolean array is true across a dimension by applying the mean function!"
   ]
  },
  {
   "cell_type": "code",
   "execution_count": 65,
   "metadata": {},
   "outputs": [
    {
     "data": {
      "text/plain": [
       "array([0.5 , 0.25])"
      ]
     },
     "execution_count": 65,
     "metadata": {},
     "output_type": "execute_result"
    }
   ],
   "source": [
    "(a == b).mean(axis=1)"
   ]
  },
  {
   "cell_type": "markdown",
   "metadata": {},
   "source": [
    "To perform logical and/or operations, you can check if *all* or *any* of the boolean entries across a dimension are true"
   ]
  },
  {
   "cell_type": "code",
   "execution_count": 66,
   "metadata": {},
   "outputs": [
    {
     "data": {
      "text/plain": [
       "array([[False, False, False,  True],\n",
       "       [False,  True,  True,  True]])"
      ]
     },
     "execution_count": 66,
     "metadata": {},
     "output_type": "execute_result"
    }
   ],
   "source": [
    "c = (a > b)\n",
    "assert c.shape == (2, 4)\n",
    "\n",
    "c"
   ]
  },
  {
   "cell_type": "code",
   "execution_count": 67,
   "metadata": {},
   "outputs": [
    {
     "data": {
      "text/plain": [
       "array([False, False, False,  True])"
      ]
     },
     "execution_count": 67,
     "metadata": {},
     "output_type": "execute_result"
    }
   ],
   "source": [
    "c.all(axis=0)"
   ]
  },
  {
   "cell_type": "code",
   "execution_count": 68,
   "metadata": {},
   "outputs": [
    {
     "data": {
      "text/plain": [
       "array([False,  True,  True,  True])"
      ]
     },
     "execution_count": 68,
     "metadata": {},
     "output_type": "execute_result"
    }
   ],
   "source": [
    "c.any(axis=0)"
   ]
  },
  {
   "cell_type": "markdown",
   "metadata": {},
   "source": [
    "# Case Study\n",
    "\n",
    "Images are arrays of intensity values.\n",
    "\n",
    "<img src=\"04_parrot.jpg\" alt=\"Drawing\" style=\"width: 30%\"/>\n",
    "\n",
    "Photo credit: [https://www.thefactsite.com/facts-about-parrots/](https://www.thefactsite.com/facts-about-parrots/)"
   ]
  },
  {
   "cell_type": "code",
   "execution_count": 95,
   "metadata": {},
   "outputs": [
    {
     "data": {
      "text/plain": [
       "(700, 900, 3)"
      ]
     },
     "execution_count": 95,
     "metadata": {},
     "output_type": "execute_result"
    }
   ],
   "source": [
    "img_arr = plt.imread('04_parrot.jpg')\n",
    "\n",
    "# The image dimensions\n",
    "img_arr.shape"
   ]
  },
  {
   "cell_type": "markdown",
   "metadata": {},
   "source": [
    "**Question**: What do the shape dimensions mean?\n",
    "* The first dimension corresponds to the height of the image (700 pixels).\n",
    "* The second dimension corresponds to the width of the image (900 pixels).\n",
    "* The third dimension corresponds to the color channels (red, green, and blue)."
   ]
  },
  {
   "cell_type": "code",
   "execution_count": 96,
   "metadata": {},
   "outputs": [],
   "source": [
    "height, width, channels = img_arr.shape"
   ]
  },
  {
   "cell_type": "code",
   "execution_count": 97,
   "metadata": {},
   "outputs": [
    {
     "data": {
      "text/plain": [
       "dtype('uint8')"
      ]
     },
     "execution_count": 97,
     "metadata": {},
     "output_type": "execute_result"
    }
   ],
   "source": [
    "img_arr.dtype"
   ]
  },
  {
   "cell_type": "code",
   "execution_count": 98,
   "metadata": {},
   "outputs": [
    {
     "data": {
      "text/plain": [
       "(0, 255)"
      ]
     },
     "execution_count": 98,
     "metadata": {},
     "output_type": "execute_result"
    }
   ],
   "source": [
    "img_arr.min(), img_arr.max()"
   ]
  },
  {
   "cell_type": "code",
   "execution_count": 99,
   "metadata": {},
   "outputs": [
    {
     "data": {
      "image/png": "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
